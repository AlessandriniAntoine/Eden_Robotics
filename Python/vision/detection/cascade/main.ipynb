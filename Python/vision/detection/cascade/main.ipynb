{
 "cells": [
  {
   "attachments": {},
   "cell_type": "markdown",
   "metadata": {},
   "source": [
    "# Custom Cascade Object Detector\n",
    "\n",
    "This notebook allow you to create a haar cascade classifier using opencv library. A virtual environment is required to simplify the use because a specific version of opencv(<4) is needed. \n",
    "\n",
    "See opencv cascade classifier [documentation](https://docs.opencv.org/3.4/db/d28/tutorial_cascade_classifier.html) and [tutorial](https://docs.opencv.org/3.4/dc/d88/tutorial_traincascade.html) for more information.\n",
    "\n",
    "## Virtual Environment \n",
    "Creation virtual environment and install package to use jupyter notebook:\n",
    "```console\n",
    "python -m venv env\n",
    "source ./env/bin/activate\n",
    "python -m pip install --upgrade pip\n",
    "pip install ipykernel\n",
    "python -m ipykernel install --user --name=env\n",
    "```\n",
    "\n",
    "Then one the jupyter notebook select the correct kernel. Be sure you are using this environment.\n",
    "\n",
    "## Create Folders"
   ]
  },
  {
   "cell_type": "code",
   "execution_count": 1,
   "metadata": {},
   "outputs": [],
   "source": [
    "import os\n",
    "DIR_PATH = os.getcwd()"
   ]
  },
  {
   "cell_type": "code",
   "execution_count": 2,
   "metadata": {},
   "outputs": [],
   "source": [
    "paths = {\n",
    "    'DATA_PATH' : os.path.join(DIR_PATH,'data'),\n",
    "    'DOWNLOAD_IMAGES_PATH' : os.path.join(DIR_PATH,'data','images','download'),\n",
    "    'MODELS_PATH' : os.path.join(DIR_PATH,'data','models'),\n",
    "    'NEGATIVE_IMAGES_PATH' : os.path.join(DIR_PATH,'data','images','negative'),\n",
    "    'POSITIVE_IMAGES_PATH' : os.path.join(DIR_PATH,'data','images','positive'),\n",
    "    'RESULT_PATH' : os.path.join(DIR_PATH,'results'),\n",
    "    'TEST_IMAGES_PATH' : os.path.join(DIR_PATH,'data','images','test'),\n",
    "}"
   ]
  },
  {
   "cell_type": "code",
   "execution_count": 3,
   "metadata": {},
   "outputs": [],
   "source": [
    "files = {\n",
    "    'CASCADE_TXT' : os.path.join(paths['DATA_PATH'],'cascade.txt'),\n",
    "    'FILTER_PY' : os.path.join(DIR_PATH,'filter.py'),\n",
    "    'NEGATIVE_TXT' : os.path.join(paths['DATA_PATH'],'negative.txt'),\n",
    "    'POSITIVE_TXT' : os.path.join(paths['DATA_PATH'],'positive.txt'),\n",
    "    'POSITIVE_VEC' : os.path.join(paths['DATA_PATH'],'positive.vec'),\n",
    "}"
   ]
  },
  {
   "cell_type": "code",
   "execution_count": 13,
   "metadata": {},
   "outputs": [],
   "source": [
    "for path in paths.values():\n",
    "    if not os.path.exists(path):\n",
    "        if os.name == 'posix':\n",
    "            !mkdir -p {path}\n",
    "        if os.name == 'nt':\n",
    "            !mkdir {path}"
   ]
  },
  {
   "attachments": {},
   "cell_type": "markdown",
   "metadata": {},
   "source": [
    "## Install Dependencies"
   ]
  },
  {
   "cell_type": "code",
   "execution_count": null,
   "metadata": {},
   "outputs": [],
   "source": [
    "!pip install opencv-python==3.4.11.45 matplotlib bs4 requests pyqt5"
   ]
  },
  {
   "attachments": {},
   "cell_type": "markdown",
   "metadata": {},
   "source": [
    "## Import Packages"
   ]
  },
  {
   "cell_type": "code",
   "execution_count": 4,
   "metadata": {},
   "outputs": [],
   "source": [
    "import shutil\n",
    "import time\n",
    "import contextlib\n",
    "\n",
    "import requests \n",
    "from bs4 import *\n",
    "\n",
    "import numpy as np\n",
    "import matplotlib.pyplot as plt\n",
    "\n",
    "import cv2"
   ]
  },
  {
   "attachments": {},
   "cell_type": "markdown",
   "metadata": {},
   "source": [
    "## Download Images\n",
    "\n",
    "You can upload directly images or dowload from internet with the following functions\n",
    "If you download from internet, you can use the file filter.py that open a GUI to save image or not"
   ]
  },
  {
   "cell_type": "code",
   "execution_count": null,
   "metadata": {},
   "outputs": [],
   "source": [
    "def download_images(images, folder_name):\n",
    "    print(f\"Total {len(images)} Image Found!\")\n",
    "    if len(images) != 0:\n",
    "        count = 0\n",
    "        for image in images:\n",
    "            try:\n",
    "                image_link = image[\"data-srcset\"]\n",
    "            except Exception:\n",
    "                try:\n",
    "                    image_link = image[\"data-src\"]\n",
    "                except Exception:\n",
    "                    try:\n",
    "                        image_link = image[\"data-fallback-src\"]\n",
    "                    except Exception:\n",
    "                        with contextlib.suppress(Exception):\n",
    "                            image_link = image[\"src\"]\n",
    "\n",
    "            with contextlib.suppress(Exception):\n",
    "                r = requests.get(image_link).content\n",
    "                try:\n",
    "                    r = str(r, 'utf-8')\n",
    "                except UnicodeDecodeError:\n",
    "                    with open(f'{folder_name}/{time.strftime(\"%Y%m%d_%H%M%S\")}.jpg', \"wb+\") as f:\n",
    "                        f.write(r)\n",
    "                    count += 1\n",
    "        print(f\"Total {count} Images Downloaded Out of {len(images)}\")"
   ]
  },
  {
   "cell_type": "code",
   "execution_count": null,
   "metadata": {},
   "outputs": [],
   "source": [
    "url = ''\n",
    "response = requests.get(url)\n",
    "if response.status_code == 200:\n",
    "    soup = BeautifulSoup(response.text, 'html.parser')\n",
    "    images = soup.findAll('img')\n",
    "    download_images(images,folder_name=os.path.join(paths['DOWNLOAD_IMAGES_PATH']))\n",
    "else :\n",
    "    print('URL not valide')"
   ]
  },
  {
   "cell_type": "code",
   "execution_count": null,
   "metadata": {},
   "outputs": [],
   "source": [
    "# filter images\n",
    "command = f'python {files[\"FILTER_PY\"]} -i {paths[\"DOWNLOAD_IMAGES_PATH\"]} -p {paths[\"POSITIVE_IMAGES_PATH\"]} -n {paths[\"NEGATIVE_IMAGES_PATH\"]}'\n",
    "print(command)"
   ]
  },
  {
   "attachments": {},
   "cell_type": "markdown",
   "metadata": {},
   "source": [
    "## Label Images\n",
    "\n",
    "Two possibilities to label images : \n",
    "- Use opencv function\n",
    "- Use yolo annotation (see [yolo](../yolo/main.ipynb)) where you can export yolo annotation into cascade annotation as cascade.txt file"
   ]
  },
  {
   "attachments": {},
   "cell_type": "markdown",
   "metadata": {},
   "source": [
    "## Resize image"
   ]
  },
  {
   "cell_type": "code",
   "execution_count": 5,
   "metadata": {},
   "outputs": [],
   "source": [
    "def resize_image(img_path,dimension):\n",
    "    img = cv2.imread(img_path)\n",
    "    img = cv2.resize(img,dimension,cv2.INTER_AREA)\n",
    "    cv2.imwrite(img_path,img)"
   ]
  },
  {
   "cell_type": "code",
   "execution_count": 5,
   "metadata": {},
   "outputs": [],
   "source": [
    "dimension = (640,640)\n",
    "folder = paths['NEGATIVE_IMAGES_PATH']"
   ]
  },
  {
   "cell_type": "code",
   "execution_count": 17,
   "metadata": {},
   "outputs": [],
   "source": [
    "for file in os.listdir(folder):\n",
    "    if file.endswith('.jpg'):\n",
    "        img_path = os.path.join(folder,file)\n",
    "        resize_image(img_path,dimension)"
   ]
  },
  {
   "attachments": {},
   "cell_type": "markdown",
   "metadata": {},
   "source": [
    "\n",
    "## Write Positive And Negative Texte File\n",
    "\n",
    "In case you have imported the cascade label file from the yolo format, you need to run the next case to write a correct positive text file. If you have label from opencv, it is already done.\n",
    "The case to create the negative text file always need to be done."
   ]
  },
  {
   "cell_type": "code",
   "execution_count": 6,
   "metadata": {},
   "outputs": [
    {
     "name": "stdout",
     "output_type": "stream",
     "text": [
      "Total samples : 1492\n"
     ]
    }
   ],
   "source": [
    "with open(files['CASCADE_TXT']) as f:\n",
    "    labels = [line.rstrip() for line in f]\n",
    "total_label = 0\n",
    "with open(files['POSITIVE_TXT'],'w') as file:\n",
    "    update_labels = []\n",
    "    for label in labels:\n",
    "        line_list = label.split(' ')\n",
    "        name = \".\".join(line_list[0].split(\".\")[:-1])\n",
    "        line_list[0] = os.path.join('images','positive',f'{name}.jpg')\n",
    "        n = len(line_list[1:]) // 4\n",
    "        total_label += n\n",
    "        new_line = [line_list[0]] + [str(n)] + line_list[1:]\n",
    "        line = \" \".join(new_line)\n",
    "        file.write(line)\n",
    "        file.write('\\n')\n",
    "print(f'Total samples : {total_label}')"
   ]
  },
  {
   "cell_type": "code",
   "execution_count": 7,
   "metadata": {},
   "outputs": [],
   "source": [
    "images = os.listdir(paths['NEGATIVE_IMAGES_PATH'])\n",
    "with open(files['NEGATIVE_TXT'],'w') as file:\n",
    "    for image in images:\n",
    "        path = os.path.join(paths['NEGATIVE_IMAGES_PATH'],image)\n",
    "        file.write(path)\n",
    "        file.write('\\n')"
   ]
  },
  {
   "attachments": {},
   "cell_type": "markdown",
   "metadata": {},
   "source": [
    "## Create Vector File"
   ]
  },
  {
   "cell_type": "code",
   "execution_count": 6,
   "metadata": {},
   "outputs": [],
   "source": [
    "detection_width = 30\n",
    "detection_heigt = 40\n",
    "num_samples = 2000 # this has to be bigger than the number of tomatos you label"
   ]
  },
  {
   "cell_type": "code",
   "execution_count": null,
   "metadata": {},
   "outputs": [],
   "source": [
    "!opencv_createsamples -info {files['POSITIVE_TXT']} -w {detection_width} -h {detection_heigt} -num {num_samples} -vec {files['POSITIVE_VEC']}"
   ]
  },
  {
   "cell_type": "code",
   "execution_count": null,
   "metadata": {},
   "outputs": [],
   "source": [
    "!opencv_createsamples -w {detection_width} -h {detection_heigt} -vec {files['POSITIVE_VEC']}"
   ]
  },
  {
   "attachments": {},
   "cell_type": "markdown",
   "metadata": {},
   "source": [
    "## Train Model"
   ]
  },
  {
   "cell_type": "code",
   "execution_count": 7,
   "metadata": {},
   "outputs": [],
   "source": [
    "num_positive = 1400 # need to be less than the number of sample\n",
    "num_negative = 2800 \n",
    "stages = 12\n",
    "max_false_alarame_rate = 0.4\n",
    "min_hit_rate = 0.999"
   ]
  },
  {
   "cell_type": "code",
   "execution_count": 11,
   "metadata": {},
   "outputs": [],
   "source": [
    "num_model = 0"
   ]
  },
  {
   "cell_type": "code",
   "execution_count": null,
   "metadata": {},
   "outputs": [],
   "source": [
    "model_path = os.path.join(paths['MODELS_PATH'],f'model_{num_model}')\n",
    "if not os.path.exists(model_path):\n",
    "    print('Model folder does not exist. Training will start from scratch.')\n",
    "    if os.name == 'posix':\n",
    "        !mkdir -p {model_path}\n",
    "    if os.name == 'nt':\n",
    "        !mkdir {model_path}\n",
    "else :\n",
    "    print('Model folder already exists. Training will start from previous session')"
   ]
  },
  {
   "cell_type": "code",
   "execution_count": null,
   "metadata": {},
   "outputs": [],
   "source": [
    "command = f'opencv_traincascade -data {model_path} -vec {files[\"POSITIVE_VEC\"]} -bg {files[\"NEGATIVE_TXT\"]} -w {detection_width} -h {detection_heigt} -numPos {num_positive} -numNeg {num_negative} -numStages {stages} -maxFalseAlarmRate {max_false_alarame_rate} -minHitRate {min_hit_rate}'\n",
    "print(command)"
   ]
  },
  {
   "cell_type": "code",
   "execution_count": null,
   "metadata": {},
   "outputs": [],
   "source": [
    "!{command}"
   ]
  },
  {
   "attachments": {},
   "cell_type": "markdown",
   "metadata": {},
   "source": [
    "## Test Model"
   ]
  },
  {
   "cell_type": "code",
   "execution_count": 21,
   "metadata": {},
   "outputs": [],
   "source": [
    "model_number = 0\n",
    "model_path = os.path.join(paths['MODELS_PATH'],f'model_{model_number}','cascade.xml')"
   ]
  },
  {
   "cell_type": "code",
   "execution_count": 22,
   "metadata": {},
   "outputs": [],
   "source": [
    "cascade = cv2.CascadeClassifier(model_path)"
   ]
  },
  {
   "cell_type": "code",
   "execution_count": null,
   "metadata": {},
   "outputs": [],
   "source": [
    "for image in os.listdir(paths['TEST_IMAGES_PATH'])[:3]:\n",
    "    \n",
    "        img_path = os.path.join(paths['TEST_IMAGES_PATH'],image)\n",
    "        img = cv2.imread(img_path)\n",
    "        img = cv2.resize(img,dimension)\n",
    "        rectangles = cascade.detectMultiScale(img,minNeighbors=50)\n",
    "        for (x, y, w, h) in rectangles:\n",
    "                cv2.rectangle(img, (x,y), (x+w,y+h), (255,0,0), lineType=cv2.LINE_4)\n",
    "        img = cv2.cvtColor(img, cv2.COLOR_BGR2RGB)\n",
    "        %matplotlib inline \n",
    "        plt.imshow(img)\n",
    "        plt.show()"
   ]
  },
  {
   "attachments": {},
   "cell_type": "markdown",
   "metadata": {},
   "source": [
    "## Live Detection"
   ]
  },
  {
   "cell_type": "code",
   "execution_count": 23,
   "metadata": {},
   "outputs": [],
   "source": [
    "cap = cv2.VideoCapture(0)\n",
    "\n",
    "prev_frame_time = 0\n",
    "new_frame_time = 0\n",
    "\n",
    "min_neighbors = 50\n",
    "\n",
    "while cap.isOpened():\n",
    "    ret, frame = cap.read()\n",
    "    frame = cv2.resize(frame,dimension)\n",
    "    # Make detections \n",
    "    rectangles = cascade.detectMultiScale(frame,minNeighbors=min_neighbors)\n",
    "    for (x, y, w, h) in rectangles:\n",
    "        cv2.rectangle(frame, (x,y), (x+w,y+h), (255,0,0), lineType=cv2.LINE_4)\n",
    "\n",
    "    new_frame_time = time.time()\n",
    "    fps = round(1/(new_frame_time-prev_frame_time),2)\n",
    "    prev_frame_time = new_frame_time\n",
    "    cv2.putText(frame, f'FPS : {fps}Hz  minNeighbors : {min_neighbors}', (2, 20), cv2.FONT_HERSHEY_SIMPLEX, 0.5, (100, 255, 0), 1, cv2.LINE_AA)\n",
    "    cv2.imshow('YOLO', frame)\n",
    "    if cv2.waitKey(10) & 0xFF == ord('+'):\n",
    "            min_neighbors += 1\n",
    "    if cv2.waitKey(10) & 0xFF == ord('-'):\n",
    "        if min_neighbors>2:\n",
    "            min_neighbors -= 1\n",
    "    if cv2.waitKey(10) & 0xFF == ord('q'):\n",
    "        break\n",
    "\n",
    "cap.release()\n",
    "cv2.destroyAllWindows()"
   ]
  }
 ],
 "metadata": {
  "kernelspec": {
   "display_name": "env",
   "language": "python",
   "name": "env"
  },
  "language_info": {
   "codemirror_mode": {
    "name": "ipython",
    "version": 3
   },
   "file_extension": ".py",
   "mimetype": "text/x-python",
   "name": "python",
   "nbconvert_exporter": "python",
   "pygments_lexer": "ipython3",
   "version": "3.8.10"
  },
  "orig_nbformat": 4
 },
 "nbformat": 4,
 "nbformat_minor": 2
}
