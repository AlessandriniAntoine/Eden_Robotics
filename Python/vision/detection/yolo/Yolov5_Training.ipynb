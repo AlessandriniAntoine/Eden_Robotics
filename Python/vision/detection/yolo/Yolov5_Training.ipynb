{
  "cells": [
    {
      "cell_type": "markdown",
      "metadata": {
        "colab_type": "text",
        "id": "view-in-github"
      },
      "source": [
        "<a href=\"https://colab.research.google.com/github/AlessandriniAntoine/Eden_Robotics/blob/ros/Python/vision/detection/yolo/Yolov5_Training.ipynb\" target=\"_parent\"><img src=\"https://colab.research.google.com/assets/colab-badge.svg\" alt=\"Open In Colab\"/></a>"
      ]
    },
    {
      "cell_type": "markdown",
      "metadata": {
        "id": "GD9gUQpaBxNa"
      },
      "source": [
        "# How to Train YOLOv5 on Custom Objects\n",
        "\n",
        "This tutorial is based on the [YOLOv5 repository](https://github.com/ultralytics/yolov5) by [Ultralytics](https://www.ultralytics.com/). This notebook shows training on **your own custom objects**. Many thanks to Ultralytics for putting this repository together - we hope that in combination with clean data management tools at Roboflow, this technologoy will become easily accessible to any developer wishing to use computer vision in their projects.\n",
        "\n",
        "\n",
        "\n",
        "### Steps Covered in this Tutorial\n",
        "\n",
        "To train our detector we take the following steps:\n",
        "\n",
        "* Install YOLOv5 dependencies\n",
        "* Download custom YOLOv5 object detection data\n",
        "* Write our YOLOv5 Training configuration\n",
        "* Run YOLOv5 training\n",
        "* Evaluate YOLOv5 performance\n",
        "* Visualize YOLOv5 training data\n",
        "* Run YOLOv5 inference on test images\n",
        "* Export saved YOLOv5 weights for future inference\n",
        "\n",
        "\n",
        "I did not use Roboflow for the dataset because I did label images with [labelImg](https://pypi.org/project/labelImg/), and I upload by hand all the data. But Roboflow is a good solution to find datasets."
      ]
    },
    {
      "cell_type": "markdown",
      "metadata": {
        "id": "7mGmQbAO5pQb"
      },
      "source": [
        "#Install Dependencies\n",
        "\n",
        "_(Remember to choose GPU in Runtime if not already selected. Runtime --> Change Runtime Type --> Hardware accelerator --> GPU)_"
      ]
    },
    {
      "cell_type": "code",
      "execution_count": null,
      "metadata": {
        "id": "r0Btj_vDVjOs"
      },
      "outputs": [],
      "source": [
        "!git clone https://github.com/ultralytics/yolov5  # clone repo"
      ]
    },
    {
      "cell_type": "code",
      "execution_count": null,
      "metadata": {
        "colab": {
          "base_uri": "https://localhost:8080/"
        },
        "id": "Ie5uLDH4uzAp",
        "outputId": "d59eac93-afae-4a32-cb76-9fc9903d7c6d"
      },
      "outputs": [
        {
          "name": "stdout",
          "output_type": "stream",
          "text": [
            "/content/yolov5\n",
            "HEAD is now at fbe67e4 Fix `OMP_NUM_THREADS=1` for macOS (#8624)\n",
            "Looking in indexes: https://pypi.org/simple, https://us-python.pkg.dev/colab-wheels/public/simple/\n",
            "\u001b[31mERROR: Could not find a version that satisfies the requirement yaml (from versions: none)\u001b[0m\n",
            "\u001b[31mERROR: No matching distribution found for yaml\u001b[0m\n"
          ]
        }
      ],
      "source": [
        "# clone YOLOv5 repository\n",
        "%cd /content/yolov5\n",
        "!git reset --hard fbe67e465375231474a2ad80a4389efc77ecff99\n",
        "!pip install -qr requirements.txt  # install dependencies (ignore errors)"
      ]
    },
    {
      "cell_type": "markdown",
      "metadata": {
        "id": "kLv69a5B07bs"
      },
      "source": [
        "## Import Packages"
      ]
    },
    {
      "cell_type": "code",
      "execution_count": null,
      "metadata": {
        "colab": {
          "base_uri": "https://localhost:8080/"
        },
        "id": "wbvMlHd_QwMG",
        "outputId": "5257b1b5-6fa0-4f06-c750-e13d9a8e1cbe"
      },
      "outputs": [
        {
          "name": "stdout",
          "output_type": "stream",
          "text": [
            "Setup complete. Using torch 1.13.0+cu116 _CudaDeviceProperties(name='Tesla T4', major=7, minor=5, total_memory=15109MB, multi_processor_count=40)\n"
          ]
        }
      ],
      "source": [
        "# install dependencies as necessary\n",
        "import torch\n",
        "import os\n",
        "import yaml\n",
        "\n",
        "from IPython.display import Image, clear_output  # to display images\n",
        "\n",
        "# clear_output()\n",
        "print('Setup complete. Using torch %s %s' % (torch.__version__, torch.cuda.get_device_properties(0) if torch.cuda.is_available() else 'CPU'))"
      ]
    },
    {
      "cell_type": "markdown",
      "metadata": {
        "id": "qd9inxAQKJyc"
      },
      "source": [
        "## Define Paths"
      ]
    },
    {
      "cell_type": "code",
      "execution_count": null,
      "metadata": {
        "id": "-K3liyK8KJj5"
      },
      "outputs": [],
      "source": [
        "paths = {\n",
        "    'DATASET' : '',\n",
        "    'DATASETS' : '/content/datasets',\n",
        "    'MODELS' : '/content/models',\n",
        "    'YOLOV5' : '/content/yolov5',\n",
        "}"
      ]
    },
    {
      "cell_type": "code",
      "execution_count": null,
      "metadata": {
        "colab": {
          "base_uri": "https://localhost:8080/"
        },
        "id": "wkQFutzYU3-h",
        "outputId": "e09a9196-0be3-4e70-bf8d-95a1ee1f9bbf"
      },
      "outputs": [
        {
          "name": "stdout",
          "output_type": "stream",
          "text": [
            "mkdir: missing operand\n",
            "Try 'mkdir --help' for more information.\n"
          ]
        }
      ],
      "source": [
        "for path in paths.values():\n",
        "    if not os.path.exists(path):\n",
        "        !mkdir -p {path}\n",
        "\n",
        "            "
      ]
    },
    {
      "cell_type": "markdown",
      "metadata": {
        "id": "SDIhrBF0sPaM"
      },
      "source": [
        "# Download Correctly Formatted Custom Dataset \n",
        "\n",
        "We'll download our dataset from Roboflow. Use the \"**YOLOv5 PyTorch**\" export format. Note that the Ultralytics implementation calls for a YAML file defining where your training and test data is. The Roboflow export also writes this format for us.\n",
        "\n",
        "To get your data into Roboflow, follow the [Getting Started Guide](https://blog.roboflow.ai/getting-started-with-roboflow/)."
      ]
    },
    {
      "cell_type": "markdown",
      "metadata": {
        "id": "EVOmzDaUpiol"
      },
      "source": [
        "If you want to use **ROBOFLOW** to upload your dataset you run the following cells"
      ]
    },
    {
      "cell_type": "code",
      "execution_count": null,
      "metadata": {
        "id": "qEsB16MqtFy-"
      },
      "outputs": [],
      "source": [
        "!pip install -q roboflow"
      ]
    },
    {
      "cell_type": "code",
      "execution_count": null,
      "metadata": {
        "colab": {
          "base_uri": "https://localhost:8080/"
        },
        "id": "Knxi2ncxWffW",
        "outputId": "7cbf9ccd-4279-413c-afe9-86b02f36213d"
      },
      "outputs": [
        {
          "name": "stdout",
          "output_type": "stream",
          "text": [
            "upload and label your dataset, and get an API KEY here: https://app.roboflow.com/?model=yolov5&ref=ultralytics\n"
          ]
        }
      ],
      "source": [
        "from roboflow import Roboflow\n",
        "rf = Roboflow(model_format=\"yolov5\", notebook=\"ultralytics\")"
      ]
    },
    {
      "cell_type": "code",
      "execution_count": null,
      "metadata": {
        "id": "j2srEO1P5tsV"
      },
      "outputs": [],
      "source": [
        "os.environ['DARASET_DIRECTORY'] = paths['DATASETS']"
      ]
    },
    {
      "cell_type": "code",
      "execution_count": null,
      "metadata": {
        "id": "Ug_PhK1oqwQA"
      },
      "outputs": [],
      "source": [
        "%cd {paths['DATASETS']}\n",
        "#after following the link above, recieve python code with these fields filled in\n",
        "from roboflow import Roboflow\n",
        "rf = Roboflow(api_key=\"YOU_KEY\")\n",
        "project = rf.workspace(\"eden-ssr4z\").project(\"yolov5-lovpt\")\n",
        "dataset = project.version(2).download(\"yolov5\")"
      ]
    },
    {
      "cell_type": "markdown",
      "metadata": {
        "id": "52OQdm99UpxP"
      },
      "source": [
        "If you upload by hand your dataset, just run the next cell to precise the name of the dataset. In that case, don't forget to upload the [data.yalm]() file."
      ]
    },
    {
      "cell_type": "code",
      "execution_count": null,
      "metadata": {
        "id": "htdVyeAKp5LA"
      },
      "outputs": [],
      "source": [
        "dataset_name = 'Yolov5_2'"
      ]
    },
    {
      "cell_type": "markdown",
      "metadata": {
        "id": "oPVq9HIJp5nv"
      },
      "source": [
        "This will create the path to the dataset depending if you used Roboflow or not"
      ]
    },
    {
      "cell_type": "code",
      "execution_count": null,
      "metadata": {
        "id": "hkfYd5fIOIZb"
      },
      "outputs": [],
      "source": [
        "try : \n",
        "  paths['DATASET'] = dataset.location\n",
        "except : \n",
        "  paths['DATASET'] = os.path.join(paths['DATASETS'],dataset_name)"
      ]
    },
    {
      "cell_type": "markdown",
      "metadata": {
        "id": "oXCwphX0Olcw"
      },
      "source": [
        "## Define Files Path"
      ]
    },
    {
      "cell_type": "code",
      "execution_count": null,
      "metadata": {
        "id": "9sQTK_H2OkDY"
      },
      "outputs": [],
      "source": [
        "files = {\n",
        "    'CONFIG_YAML' : os.path.join(paths['DATASET'],'config.yaml'),\n",
        "    'DATA_YAML' : os.path.join(paths['DATASET'],'data.yaml'),\n",
        "    'DETECT_PY' : os.path.join(paths['YOLOV5'],'detect.py'),\n",
        "    'EXPORT_PY' : os.path.join(paths['YOLOV5'],'export.py'),\n",
        "    'TRAIN_PY' : os.path.join(paths['YOLOV5'],'train.py'),\n",
        "    'VAL_PY' : os.path.join(paths['YOLOV5'],'val.py'),\n",
        "}"
      ]
    },
    {
      "cell_type": "code",
      "execution_count": null,
      "metadata": {
        "id": "ZZ3DmmGQztJj"
      },
      "outputs": [],
      "source": [
        "# this is the YAML file Roboflow wrote for us that we're loading into this notebook with our data\n",
        "%cat {files['DATA_YAML']}"
      ]
    },
    {
      "cell_type": "markdown",
      "metadata": {
        "id": "UwJx-2NHsYxT"
      },
      "source": [
        "# Define Model Configuration and Architecture\n",
        "\n",
        "We will write a yaml script that defines the parameters for our model like the number of classes, anchors, and each layer.\n",
        "\n",
        "You do not need to edit these cells, but you may."
      ]
    },
    {
      "cell_type": "code",
      "execution_count": null,
      "metadata": {
        "id": "WeQR_tNtFELJ"
      },
      "outputs": [],
      "source": [
        "with open(files['DATA_YAML'], 'r') as stream:\n",
        "    dataset_yaml  = yaml.safe_load(stream)\n",
        "dataset_yaml['path'] = paths['DATASET']\n",
        "with open(files['DATA_YAML'], 'w') as f:\n",
        "    documents = yaml.dump(dataset_yaml, f)"
      ]
    },
    {
      "cell_type": "code",
      "execution_count": null,
      "metadata": {
        "id": "dOPn9wjOAwwK"
      },
      "outputs": [],
      "source": [
        "# define number of classes based on YAML\n",
        "with open(files['DATA_YAML'], 'r') as stream:\n",
        "    num_classes = str(yaml.safe_load(stream)['nc'])"
      ]
    },
    {
      "cell_type": "code",
      "execution_count": null,
      "metadata": {
        "id": "1Rvt5wilnDyX"
      },
      "outputs": [],
      "source": [
        "# define model type\n",
        "model_type = 'yolov5s'\n",
        "path = os.path.join(paths['YOLOV5'],'models',f'{model_type}.yaml')\n",
        "%cat {path}"
      ]
    },
    {
      "cell_type": "code",
      "execution_count": null,
      "metadata": {
        "id": "t14hhyqdmw6O"
      },
      "outputs": [],
      "source": [
        "#customize iPython writefile so we can write variables\n",
        "from IPython.core.magic import register_line_cell_magic\n",
        "\n",
        "@register_line_cell_magic\n",
        "def writetemplate(line, cell):\n",
        "    with open(line, 'w') as f:\n",
        "        f.write(cell.format(**globals()))"
      ]
    },
    {
      "cell_type": "code",
      "execution_count": null,
      "metadata": {
        "id": "uDxebz13RdRA"
      },
      "outputs": [],
      "source": [
        "%%writetemplate {files['CONFIG_YAML']}\n",
        "\n",
        "# parameters\n",
        "nc: {num_classes}  # number of classes\n",
        "depth_multiple: 0.33  # model depth multiple\n",
        "width_multiple: 0.50  # layer channel multiple\n",
        "\n",
        "# anchors\n",
        "anchors:\n",
        "  - [10,13, 16,30, 33,23]  # P3/8\n",
        "  - [30,61, 62,45, 59,119]  # P4/16\n",
        "  - [116,90, 156,198, 373,326]  # P5/32\n",
        "\n",
        "# YOLOv5 v6.0 backbone\n",
        "backbone:\n",
        "  # [from, number, module, args]\n",
        "  [[-1, 1, Conv, [64, 6, 2, 2]],  # 0-P1/2\n",
        "   [-1, 1, Conv, [128, 3, 2]],  # 1-P2/4\n",
        "   [-1, 3, C3, [128]],\n",
        "   [-1, 1, Conv, [256, 3, 2]],  # 3-P3/8\n",
        "   [-1, 6, C3, [256]],\n",
        "   [-1, 1, Conv, [512, 3, 2]],  # 5-P4/16\n",
        "   [-1, 9, C3, [512]],\n",
        "   [-1, 1, Conv, [1024, 3, 2]],  # 7-P5/32\n",
        "   [-1, 3, C3, [1024]],\n",
        "   [-1, 1, SPPF, [1024, 5]],  # 9\n",
        "  ]\n",
        "\n",
        "# YOLOv5 v6.0 head\n",
        "head:\n",
        "  [[-1, 1, Conv, [512, 1, 1]],\n",
        "   [-1, 1, nn.Upsample, [None, 2, 'nearest']],\n",
        "   [[-1, 6], 1, Concat, [1]],  # cat backbone P4\n",
        "   [-1, 3, C3, [512, False]],  # 13\n",
        "\n",
        "   [-1, 1, Conv, [256, 1, 1]],\n",
        "   [-1, 1, nn.Upsample, [None, 2, 'nearest']],\n",
        "   [[-1, 4], 1, Concat, [1]],  # cat backbone P3\n",
        "   [-1, 3, C3, [256, False]],  # 17 (P3/8-small)\n",
        "\n",
        "   [-1, 1, Conv, [256, 3, 2]],\n",
        "   [[-1, 14], 1, Concat, [1]],  # cat head P4\n",
        "   [-1, 3, C3, [512, False]],  # 20 (P4/16-medium)\n",
        "\n",
        "   [-1, 1, Conv, [512, 3, 2]],\n",
        "   [[-1, 10], 1, Concat, [1]],  # cat head P5\n",
        "   [-1, 3, C3, [1024, False]],  # 23 (P5/32-large)\n",
        "\n",
        "   [[17, 20, 23], 1, Detect, [nc, anchors]],  # Detect(P3, P4, P5)\n",
        "  ]"
      ]
    },
    {
      "cell_type": "markdown",
      "metadata": {
        "id": "VUOiNLtMP5aG"
      },
      "source": [
        "# Train Custom YOLOv5 Detector\n",
        "\n",
        "### Next, we'll fire off training!\n",
        "\n",
        "\n",
        "Here, we are able to pass a number of arguments:\n",
        "- **img:** define input image size\n",
        "- **batch:** determine batch size\n",
        "- **epochs:** define the number of training epochs. (Note: often, 3000+ are common here!)\n",
        "- **data:** set the path to our yaml file\n",
        "- **cfg:** specify our model configuration\n",
        "- **weights:** specify a custom path to weights. (Note: you can download weights from the Ultralytics Google Drive [folder](https://drive.google.com/open?id=1Drs_Aiu7xx6S-ix95f9kNsA6ueKRpN2J))\n",
        "- **name:** result names\n",
        "- **nosave:** only save the final checkpoint\n",
        "- **cache:** cache images for faster training"
      ]
    },
    {
      "cell_type": "code",
      "execution_count": null,
      "metadata": {
        "id": "Vc4HLkWxRLZn"
      },
      "outputs": [],
      "source": [
        "img_size = 416\n",
        "epochs = 100\n",
        "model_number = None # model from where to start, None if start from scratch"
      ]
    },
    {
      "cell_type": "code",
      "execution_count": null,
      "metadata": {
        "id": "cnJST_sNRaBs"
      },
      "outputs": [],
      "source": [
        "if model_number is not None:\n",
        "    model_path = os.path.join(paths['MODELS_PATH'],'train',f'model_{model_number}')\n",
        "    weights_path = os.path.join(model_path,'weights','best.pt')\n",
        "else : \n",
        "    weights_path = ''"
      ]
    },
    {
      "cell_type": "code",
      "execution_count": null,
      "metadata": {
        "colab": {
          "base_uri": "https://localhost:8080/"
        },
        "id": "v9L3HHBBRnd9",
        "outputId": "87c85aa8-419b-4ccf-c49e-9c76249fe1de"
      },
      "outputs": [
        {
          "name": "stdout",
          "output_type": "stream",
          "text": [
            "1\n"
          ]
        }
      ],
      "source": [
        "try:\n",
        "    list_models = [name for name in os.listdir(paths['MODELS']) if 'model_' in name]\n",
        "    new_model_number = max(int(name[-1]) for name in list_models)+1\n",
        "except Exception:\n",
        "    new_model_number = 0\n",
        "new_model_name = os.path.join(f'model_{new_model_number}','train')"
      ]
    },
    {
      "cell_type": "code",
      "execution_count": null,
      "metadata": {
        "id": "6x_wNWXpR0XC"
      },
      "outputs": [],
      "source": [
        "print(new_model_name)\n",
        "print(weights_path)"
      ]
    },
    {
      "cell_type": "code",
      "execution_count": null,
      "metadata": {
        "id": "1NcFxRcFdJ_O"
      },
      "outputs": [],
      "source": [
        "# train yolov5s on custom data for 100 epochs\n",
        "# time its performance\n",
        "%%time\n",
        "command = f'python {files[\"TRAIN_PY\"]} --img {img_size} --batch 16 --epochs {epochs} --data {files[\"DATA_YAML\"]} --cfg {files[\"CONFIG_YAML\"]} --project {paths[\"MODELS\"]} --name {new_model_name}'\n",
        "if weights_path : \n",
        "    command = f'{command} --weights {weights_path} --cache'\n",
        "else :\n",
        "  command = f\"{command} --weights '' --cache\"\n",
        "!{command}"
      ]
    },
    {
      "cell_type": "markdown",
      "metadata": {
        "id": "kJVs_4zEeVbF"
      },
      "source": [
        "# Evaluate Custom YOLOv5 Detector Performance"
      ]
    },
    {
      "cell_type": "markdown",
      "metadata": {
        "id": "7KN5ghjE6ZWh"
      },
      "source": [
        "Training losses and performance metrics are saved to Tensorboard and also to a logfile defined above with the **--name** flag when we train. In our case, we named this `yolov5s_results`. (If given no name, it defaults to `results.txt`.) The results file is plotted as a png after training completes.\n",
        "\n",
        "Note from Glenn: Partially completed `results.txt` files can be plotted with `from utils.utils import plot_results; plot_results()`."
      ]
    },
    {
      "cell_type": "code",
      "execution_count": null,
      "metadata": {
        "id": "0c-hyPUtSjyT"
      },
      "outputs": [],
      "source": [
        "model_number = 0"
      ]
    },
    {
      "cell_type": "code",
      "execution_count": null,
      "metadata": {
        "id": "2_kTRMWtSnIE"
      },
      "outputs": [],
      "source": [
        "test_model_name = os.path.join(f'model_{model_number}','test')\n",
        "weigths_path =  os.path.join(paths['MODELS'],'train',f'model_{model_number}','weights','best.pt')"
      ]
    },
    {
      "cell_type": "code",
      "execution_count": null,
      "metadata": {
        "id": "FC-xredjSr3Z"
      },
      "outputs": [],
      "source": [
        "!python {files[\"VAL_PY\"]} --weights {weigths_path} --data {files[\"DATA_YAML\"]} --img {img_size} --project {paths[\"MODELS\"]} --name {test_model_name}"
      ]
    },
    {
      "cell_type": "code",
      "execution_count": null,
      "metadata": {
        "id": "bOy5KI2ncnWd"
      },
      "outputs": [],
      "source": [
        "# Start tensorboard\n",
        "# Launch after you have started training\n",
        "# logs save in the folder \"runs\"\n",
        "%load_ext tensorboard\n",
        "%tensorboard --logdir /content/models"
      ]
    },
    {
      "cell_type": "markdown",
      "metadata": {
        "id": "N3qM6T0W53gh"
      },
      "source": [
        "#Run Inference  With Trained Weights\n",
        "Run inference with a pretrained checkpoint on contents of `test/images` folder downloaded from Roboflow."
      ]
    },
    {
      "cell_type": "code",
      "execution_count": null,
      "metadata": {
        "id": "TAfzSyk_TK9h"
      },
      "outputs": [],
      "source": [
        "model_number = 0\n",
        "conf = 0.4"
      ]
    },
    {
      "cell_type": "code",
      "execution_count": null,
      "metadata": {
        "id": "ytyh0RDmTIYw"
      },
      "outputs": [],
      "source": [
        "model_name = os.path.join(f'model_{model_number}','detect')\n",
        "weigths_path =  os.path.join(paths['MODELS'],f'model_{model_number}','train','weights','best.pt')\n",
        "test_path = os.path.join(paths['DATASET'],'test','images')"
      ]
    },
    {
      "cell_type": "code",
      "execution_count": null,
      "metadata": {
        "id": "9nmZZnWOgJ2S"
      },
      "outputs": [],
      "source": [
        "!python {files['DETECT_PY']} --weights {weigths_path} --img {img_size} --conf {conf} --source {test_path} --project {paths['MODELS']} --name {model_name}"
      ]
    },
    {
      "cell_type": "code",
      "execution_count": null,
      "metadata": {
        "id": "odKEqYtTgbRc"
      },
      "outputs": [],
      "source": [
        "#display inference on ALL test images\n",
        "#this looks much better with longer training above\n",
        "\n",
        "import glob\n",
        "from IPython.display import Image, display\n",
        "\n",
        "path = os.path.join(paths['MODELS'],model_name,'*jpg')\n",
        "for imageName in glob.glob(path): #assuming JPG\n",
        "    display(Image(filename=imageName))\n",
        "    print(\"\\n\")"
      ]
    },
    {
      "cell_type": "markdown",
      "metadata": {
        "id": "IPVhas5oHTSJ"
      },
      "source": [
        "## Export to onnx format"
      ]
    },
    {
      "cell_type": "code",
      "execution_count": null,
      "metadata": {
        "id": "VzcOoV4OURIB"
      },
      "outputs": [],
      "source": [
        "model_number = 0"
      ]
    },
    {
      "cell_type": "code",
      "execution_count": null,
      "metadata": {
        "id": "eC8g_RDpUSiJ"
      },
      "outputs": [],
      "source": [
        "weigths_path =  os.path.join(paths['MODELS'],f'model_{model_number}','train','weights','best.pt')"
      ]
    },
    {
      "cell_type": "code",
      "execution_count": null,
      "metadata": {
        "id": "AcZgalOLHWZU"
      },
      "outputs": [],
      "source": [
        "!python {files['EXPORT_PY']} --weights {weigths_path} --imgsz 416 416 --include onnx"
      ]
    },
    {
      "cell_type": "code",
      "execution_count": null,
      "metadata": {
        "id": "-BVA34NDWr18"
      },
      "outputs": [],
      "source": [
        "!pip uninstall onnx --yes"
      ]
    },
    {
      "cell_type": "code",
      "execution_count": null,
      "metadata": {
        "id": "LD_BfpWkhrAi"
      },
      "outputs": [],
      "source": [
        "from google.colab import files\n",
        "files.download(os.path.join(paths['MODELS'],f'model_{model_number}','train','weights','best.onnx')) "
      ]
    },
    {
      "cell_type": "markdown",
      "metadata": {
        "id": "_uPq9mVgiBql"
      },
      "source": [
        "# Export Trained Weights for Future Inference\n",
        "\n",
        "Now that you have trained your custom detector, you can export the trained weights you have made here for inference on your device elsewhere"
      ]
    },
    {
      "cell_type": "code",
      "execution_count": null,
      "metadata": {
        "colab": {
          "base_uri": "https://localhost:8080/"
        },
        "id": "YH4CTzDRh00g",
        "outputId": "dcac05aa-7bb2-40bb-d1ba-cf8b2d30a4f2"
      },
      "outputs": [
        {
          "name": "stdout",
          "output_type": "stream",
          "text": [
            "Mounted at /content/gdrive\n"
          ]
        }
      ],
      "source": [
        "from google.colab import drive\n",
        "drive.mount('/content/gdrive')"
      ]
    },
    {
      "cell_type": "code",
      "execution_count": null,
      "metadata": {
        "id": "1x_wg3VeiXMW"
      },
      "outputs": [],
      "source": [
        "%cp /content/yolov5/runs/train/yolov5s_results/weights/best.pt /content/gdrive/My\\ Drive"
      ]
    },
    {
      "cell_type": "markdown",
      "metadata": {
        "id": "LVpCFeU-K4gb"
      },
      "source": [
        "## Congrats!\n",
        "\n",
        "Hope you enjoyed this!\n",
        "\n",
        "--Team [Roboflow](https://roboflow.ai)"
      ]
    }
  ],
  "metadata": {
    "accelerator": "GPU",
    "colab": {
      "collapsed_sections": [
        "_uPq9mVgiBql"
      ],
      "include_colab_link": true,
      "provenance": []
    },
    "gpuClass": "standard",
    "kernelspec": {
      "display_name": "Python 3",
      "language": "python",
      "name": "python3"
    },
    "language_info": {
      "name": "python",
      "version": "3.8.10 (default, Nov 14 2022, 12:59:47) \n[GCC 9.4.0]"
    },
    "vscode": {
      "interpreter": {
        "hash": "df0893f56f349688326838aaeea0de204df53a132722cbd565e54b24a8fec5f6"
      }
    }
  },
  "nbformat": 4,
  "nbformat_minor": 0
}
