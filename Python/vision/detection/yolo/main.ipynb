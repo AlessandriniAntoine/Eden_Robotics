{
 "cells": [
  {
   "attachments": {},
   "cell_type": "markdown",
   "metadata": {},
   "source": [
    "# Custom Yolo Object Detector\n",
    "\n",
    "This notebook shows how to build a model to detect object using Yolov5 model.\n",
    "\n",
    "## Virtual environnement \n",
    "Creation virtual environnement and install package to use jupyter notebook:\n",
    "```console\n",
    "python -m venv env\n",
    "source ./env/bin/activate\n",
    "python -m pip install --upgrade pip\n",
    "pip install ipykernel\n",
    "python -m ipykernel install --user --name=env\n",
    "```\n",
    "\n",
    "Then one the jupyter notebook select the correct kernel.\n",
    "\n",
    "Once it is created, you should not push the virtual environment to github. With this command, you can add all files execpt some folders :\n",
    "```console\n",
    "git add -- . ':!path_to_folder1' ':!path_to_folder2'\n",
    "```\n",
    "\n",
    "Depending on the geometry of the objects, it can be interesting to have bounding boxes that can be rotated. For this, you can look at the github directory [yolov5_bb](https://github.com/hukaixuan19970627/yolov5_obb.git). En revanche il n'y a pas d'outils pour labeliser directement les images.\n",
    "\n",
    "## Install Dependencies"
   ]
  },
  {
   "cell_type": "code",
   "execution_count": 1,
   "metadata": {},
   "outputs": [],
   "source": [
    "import os"
   ]
  },
  {
   "cell_type": "code",
   "execution_count": null,
   "metadata": {},
   "outputs": [],
   "source": [
    "!pip install torch --extra-index-url https://download.pytorch.org/whl/cpu\n",
    "!pip install pyqt5 lxml --upgrade\n",
    "!pip install protobuf pyyaml matplotlib bing-image-downloader\n",
    "!pip install opencv-python opencv-contrib-python"
   ]
  },
  {
   "cell_type": "code",
   "execution_count": null,
   "metadata": {},
   "outputs": [],
   "source": [
    "if not os.path.exists('yolov5'):\n",
    "    !git clone https://github.com/ultralytics/yolov5 yolov5\n",
    "    !cd yolov5 && pip install -r requirements.txt\n",
    "else : \n",
    "    print('Yolo repository already exists')"
   ]
  },
  {
   "cell_type": "code",
   "execution_count": null,
   "metadata": {},
   "outputs": [],
   "source": [
    "# label image GUI\n",
    "if not os.path.exists('label_img'):\n",
    "    !git clone https://github.com/tzutalin/labelImg label_img\n",
    "    !cd label_img && pyrcc5 -o libs/resources.py resources.qrc\n",
    "else : \n",
    "    print('Label img repository already exists')"
   ]
  },
  {
   "attachments": {},
   "cell_type": "markdown",
   "metadata": {},
   "source": [
    "## Import Packages"
   ]
  },
  {
   "cell_type": "code",
   "execution_count": 1,
   "metadata": {},
   "outputs": [
    {
     "name": "stderr",
     "output_type": "stream",
     "text": [
      "/home/alessandrini/Documents/Robot/Eden_Robotics/Python/vision/detection/yolo/env/lib/python3.8/site-packages/tqdm/auto.py:22: TqdmWarning: IProgress not found. Please update jupyter and ipywidgets. See https://ipywidgets.readthedocs.io/en/stable/user_install.html\n",
      "  from .autonotebook import tqdm as notebook_tqdm\n"
     ]
    }
   ],
   "source": [
    "import os\n",
    "import shutil\n",
    "import time\n",
    "\n",
    "import numpy as np\n",
    "import random\n",
    "from matplotlib import pyplot as plt\n",
    "import matplotlib as mp\n",
    "\n",
    "import torch\n",
    "import cv2\n",
    "\n",
    "import yaml\n",
    "import contextlib"
   ]
  },
  {
   "attachments": {},
   "cell_type": "markdown",
   "metadata": {},
   "source": [
    "## Create Folders"
   ]
  },
  {
   "cell_type": "code",
   "execution_count": 2,
   "metadata": {},
   "outputs": [],
   "source": [
    "DIR_PATH = os.getcwd()"
   ]
  },
  {
   "cell_type": "code",
   "execution_count": 3,
   "metadata": {},
   "outputs": [],
   "source": [
    "paths = {\n",
    "    'DATA_PATH' : os.path.join(DIR_PATH,'data'),\n",
    "    'IMAGES_PATH' : os.path.join(DIR_PATH,'data','images'),\n",
    "    'LABELIMG_PATH' : os.path.join(DIR_PATH,'label_img'),\n",
    "    'MODELS_PATH' : os.path.join(DIR_PATH,'data','models'),\n",
    "    'SCRIPTS_PATH' : os.path.join(DIR_PATH,'scripts'),\n",
    "    'TEST_PATH' : os.path.join(DIR_PATH,'data','test'),\n",
    "    'TRAIN_PATH' : os.path.join(DIR_PATH,'data','train'),\n",
    "    'VALID_PATH' : os.path.join(DIR_PATH,'data','valid'),\n",
    "    'YOLO5_PATH' : os.path.join(DIR_PATH,'yolov5'),\n",
    "}"
   ]
  },
  {
   "cell_type": "code",
   "execution_count": 4,
   "metadata": {},
   "outputs": [],
   "source": [
    "files = {\n",
    "    'CAPTURE_PY' : os.path.join(paths['SCRIPTS_PATH'],'capture.py'),\n",
    "    'CLASSES_TXT' : os.path.join(paths['DATA_PATH'],'images','classes.txt'),\n",
    "    'DATASET_YAML' : os.path.join(paths['DATA_PATH'],'dataset.yaml'),\n",
    "    'DOWNLOAD_PY' : os.path.join(paths['SCRIPTS_PATH'],'download_image.py'),\n",
    "    'EXPORT_PY' : os.path.join(paths['YOLO5_PATH'],'export.py'),\n",
    "    'FILTER_PY' : os.path.join(paths['SCRIPTS_PATH'],'filter.py'),\n",
    "    'IMG_AUGMENTATION_YAML' : os.path.join(paths['DATA_PATH'],'hyp_img_augm.yaml'),\n",
    "    'LABELIMG_PY' : os.path.join(paths['LABELIMG_PATH'],'labelImg.py'),\n",
    "    'QUERY_TXT' : os.path.join(paths['SCRIPTS_PATH'],'query.txt'),\n",
    "    'TRAIN_PY' : os.path.join(paths['YOLO5_PATH'],'train.py'),\n",
    "    'VALIDATE_PY' : os.path.join(paths['YOLO5_PATH'],'val.py'),\n",
    "    'YOLO5N_YAML' : os.path.join(paths['YOLO5_PATH'],'models','yolov5n.yaml'),\n",
    "    'YOLO5S_YAML' : os.path.join(paths['YOLO5_PATH'],'models','yolov5s.yaml'),\n",
    "}"
   ]
  },
  {
   "cell_type": "code",
   "execution_count": 5,
   "metadata": {},
   "outputs": [],
   "source": [
    "for path in paths.values():\n",
    "    if not os.path.exists(path):\n",
    "        if os.name == 'posix':\n",
    "            !mkdir -p {path}\n",
    "        if os.name == 'nt':\n",
    "            !mkdir {path}\n",
    "            \n",
    "for folder in ['TEST_PATH','TRAIN_PATH','VALID_PATH']:\n",
    "    for name in ['images','labels']:\n",
    "        path = os.path.join(paths[folder],name)\n",
    "        if not os.path.exists(path):\n",
    "            if os.name == 'posix':\n",
    "                !mkdir -p {path}\n",
    "            if os.name == 'nt':\n",
    "                !mkdir {path}\n",
    "\n",
    "for name in ['test','train']:\n",
    "        path = os.path.join(paths['MODELS_PATH'],name)\n",
    "        if not os.path.exists(path):\n",
    "            if os.name == 'posix':\n",
    "                !mkdir -p {path}\n",
    "            if os.name == 'nt':\n",
    "                !mkdir {path}"
   ]
  },
  {
   "attachments": {},
   "cell_type": "markdown",
   "metadata": {},
   "source": [
    "## Define Labels"
   ]
  },
  {
   "cell_type": "code",
   "execution_count": 6,
   "metadata": {},
   "outputs": [],
   "source": [
    "labels = ['pen','pencil','scissors','eraser']"
   ]
  },
  {
   "cell_type": "code",
   "execution_count": 7,
   "metadata": {},
   "outputs": [],
   "source": [
    "with open(files['CLASSES_TXT'], 'w') as f:\n",
    "    for label in labels:\n",
    "        f.write(label)\n",
    "        f.write('\\n')"
   ]
  },
  {
   "cell_type": "code",
   "execution_count": 8,
   "metadata": {},
   "outputs": [],
   "source": [
    "dataset_yaml = {\n",
    "    'path': paths['DATA_PATH'],\n",
    "    'train': os.path.join('train', 'images'),\n",
    "    'val': os.path.join('valid', 'images'),\n",
    "    'test': os.path.join('test', 'images'),\n",
    "    'names': dict(enumerate(labels)),\n",
    "}"
   ]
  },
  {
   "cell_type": "code",
   "execution_count": 9,
   "metadata": {},
   "outputs": [],
   "source": [
    "with open(files['DATASET_YAML'], 'w') as file:\n",
    "    documents = yaml.dump(dataset_yaml, file)"
   ]
  },
  {
   "attachments": {},
   "cell_type": "markdown",
   "metadata": {},
   "source": [
    "## Capture Images\n",
    "\n",
    "With the [capture](./scripts/capture.py) file, you can capture images. You have to precise :\n",
    "- images : path to store images\n",
    "- labels : path to text file containing labels\n",
    "- num : number of images per label\n",
    "\n",
    "It will display the webcam video : \n",
    "- press S to save image\n",
    "- press Q to move to next label\n",
    "\n",
    "You can also download images from google using the [download_image](./scripts/download_image.py). You have to precise :\n",
    "- images : path to store images\n",
    "- num : number of images per label\n",
    "- query :  path to text file containing a list of query to ask google (one per line), see [query](./scripts/query.txt)\n",
    "\n",
    "It is not really important that you images are label because they are rename at the next step with the correct label\n",
    "\n",
    "You might have conflict with opencv at this step, in that case run the following command (in a terminal)"
   ]
  },
  {
   "cell_type": "code",
   "execution_count": 10,
   "metadata": {},
   "outputs": [
    {
     "name": "stdout",
     "output_type": "stream",
     "text": [
      "\u001b[33mWARNING: Skipping opencv-python-headless as it is not installed.\u001b[0m\u001b[33m\n",
      "\u001b[0mRequirement already satisfied: opencv-python in ./env/lib/python3.8/site-packages (4.7.0.68)\n",
      "Requirement already satisfied: numpy>=1.17.3 in ./env/lib/python3.8/site-packages (from opencv-python) (1.24.1)\n"
     ]
    }
   ],
   "source": [
    "!pip uninstall opencv-python-headless --yes\n",
    "!pip install opencv-python"
   ]
  },
  {
   "cell_type": "code",
   "execution_count": 17,
   "metadata": {},
   "outputs": [],
   "source": [
    "num = 2"
   ]
  },
  {
   "cell_type": "code",
   "execution_count": 18,
   "metadata": {},
   "outputs": [],
   "source": [
    "# capture from webcam\n",
    "command_capture = f'python {files[\"CAPTURE_PY\"]} --images {paths[\"IMAGES_PATH\"]} --labels {files[\"CLASSES_TXT\"]} --num {num}'\n",
    "!{command_capture}"
   ]
  },
  {
   "cell_type": "code",
   "execution_count": null,
   "metadata": {},
   "outputs": [],
   "source": [
    "# capture from google\n",
    "command_download = f'python {files[\"DOWNLOAD_PY\"]} --images {paths[\"IMAGES_PATH\"]} --query {files[\"QUERY_TXT\"]} --num {num}'\n",
    "!{command_download}"
   ]
  },
  {
   "attachments": {},
   "cell_type": "markdown",
   "metadata": {},
   "source": [
    "## Filter Data \n",
    "\n",
    "A PYQT5 [application](./filter.py) allows to listen to all the files saved, to decide to keep or delete it. If you keep it, you can precise :\n",
    "- images : path where images are stored\n",
    "- labels : path to text file containing labels\n",
    "\n",
    "A button for each label is created, when you click on it, it rename the file with the correct label in the name (label_date.jpg)\n",
    "\n",
    "You might have issue with opencv, in that case run the cell above  "
   ]
  },
  {
   "cell_type": "code",
   "execution_count": 11,
   "metadata": {},
   "outputs": [
    {
     "name": "stdout",
     "output_type": "stream",
     "text": [
      "Found existing installation: opencv-python 4.7.0.68\n",
      "Uninstalling opencv-python-4.7.0.68:\n",
      "  Successfully uninstalled opencv-python-4.7.0.68\n"
     ]
    }
   ],
   "source": [
    "!pip uninstall opencv-python --yes\n",
    "!pip install opencv-python-headless"
   ]
  },
  {
   "cell_type": "code",
   "execution_count": 21,
   "metadata": {},
   "outputs": [
    {
     "name": "stdout",
     "output_type": "stream",
     "text": [
      "python /home/alessandrini/Documents/Robot/Eden_Robotics/Python/vision/detection/yolo/scripts/filter.py --images /home/alessandrini/Documents/Robot/Eden_Robotics/Python/vision/detection/yolo/data/images --labels /home/alessandrini/Documents/Robot/Eden_Robotics/Python/vision/detection/yolo/data/images/classes.txt\n"
     ]
    }
   ],
   "source": [
    "command_app = f'python {files[\"FILTER_PY\"]} --images {paths[\"IMAGES_PATH\"]} --labels {files[\"CLASSES_TXT\"]}'\n",
    "print(command_app)"
   ]
  },
  {
   "attachments": {},
   "cell_type": "markdown",
   "metadata": {},
   "source": [
    "To the next part, run the cell above"
   ]
  },
  {
   "cell_type": "code",
   "execution_count": null,
   "metadata": {},
   "outputs": [],
   "source": [
    "!pip uninstall opencv-python-headless --yes\n",
    "!pip install opencv-python==4.6.0.66"
   ]
  },
  {
   "attachments": {},
   "cell_type": "markdown",
   "metadata": {},
   "source": [
    "## Label images\n",
    "\n",
    "Using the label application"
   ]
  },
  {
   "cell_type": "code",
   "execution_count": null,
   "metadata": {},
   "outputs": [],
   "source": [
    "!pip uninstall opencv-python --yes\n",
    "!pip install opencv-python-headless"
   ]
  },
  {
   "cell_type": "code",
   "execution_count": 23,
   "metadata": {},
   "outputs": [
    {
     "name": "stdout",
     "output_type": "stream",
     "text": [
      "python /home/alessandrini/Documents/Robot/Eden_Robotics/Python/vision/detection/yolo/label_img/labelImg.py /home/alessandrini/Documents/Robot/Eden_Robotics/Python/vision/detection/yolo/data/images /home/alessandrini/Documents/Robot/Eden_Robotics/Python/vision/detection/yolo/data/images/classes.txt\n"
     ]
    }
   ],
   "source": [
    "command_label = f\"python {files['LABELIMG_PY']} {paths['IMAGES_PATH']} {files['CLASSES_TXT']}\"\n",
    "print(command_label)"
   ]
  },
  {
   "cell_type": "code",
   "execution_count": 19,
   "metadata": {},
   "outputs": [
    {
     "name": "stdout",
     "output_type": "stream",
     "text": [
      "Found existing installation: opencv-python-headless 4.7.0.68\n",
      "Uninstalling opencv-python-headless-4.7.0.68:\n",
      "  Successfully uninstalled opencv-python-headless-4.7.0.68\n",
      "Collecting opencv-python==4.6.0.66\n",
      "  Using cached opencv_python-4.6.0.66-cp36-abi3-manylinux_2_17_x86_64.manylinux2014_x86_64.whl (60.9 MB)\n",
      "Requirement already satisfied: numpy>=1.17.3 in ./env/lib/python3.8/site-packages (from opencv-python==4.6.0.66) (1.24.1)\n",
      "Installing collected packages: opencv-python\n",
      "Successfully installed opencv-python-4.6.0.66\n"
     ]
    }
   ],
   "source": [
    "!pip uninstall opencv-python-headless --yes\n",
    "!pip install opencv-python==4.6.0.66"
   ]
  },
  {
   "attachments": {},
   "cell_type": "markdown",
   "metadata": {},
   "source": [
    "## Split Data Into Training And Testing"
   ]
  },
  {
   "cell_type": "code",
   "execution_count": 121,
   "metadata": {},
   "outputs": [],
   "source": [
    "train_size = 0.8\n",
    "valid_size = 0.2\n",
    "test_size = 0.1"
   ]
  },
  {
   "cell_type": "code",
   "execution_count": 122,
   "metadata": {},
   "outputs": [],
   "source": [
    "list_files = [os.path.splitext(file)[0] for file in os.listdir(paths['IMAGES_PATH']) if file.endswith('.txt')]\n",
    "num_files = len(list_files)\n",
    "test_set =  set(random.sample(list_files, int(test_size*num_files)))\n",
    "substet = set(list_files) - test_set\n",
    "valid_set =  set(random.sample(list(substet), int(valid_size*num_files)))\n",
    "train_set = substet - valid_set"
   ]
  },
  {
   "cell_type": "code",
   "execution_count": 128,
   "metadata": {},
   "outputs": [
    {
     "name": "stdout",
     "output_type": "stream",
     "text": [
      "Training pourcentage : 70.49180327868852\n",
      "Validation pourcentage : 19.672131147540984\n",
      "Test pourcentage : 9.836065573770492\n"
     ]
    }
   ],
   "source": [
    "print(f'Training pourcentage : {len(list(train_set))/len(list_files)*100}')\n",
    "print(f'Validation pourcentage : {len(list(valid_set))/len(list_files)*100}')\n",
    "print(f'Test pourcentage : {len(list(test_set))/len(list_files)*100}')"
   ]
  },
  {
   "cell_type": "code",
   "execution_count": 40,
   "metadata": {},
   "outputs": [],
   "source": [
    "def transfer_files(folder,files):\n",
    "    for file in files : \n",
    "        if file == 'classes' :\n",
    "            continue\n",
    "        src_img = os.path.join(paths['IMAGES_PATH'],f'{file}.jpg')\n",
    "        dst_img = os.path.join(folder,'images',f'{file}.jpg')\n",
    "        shutil.move(src_img,dst_img)\n",
    "        src_txt = os.path.join(paths['IMAGES_PATH'],f'{file}.txt')\n",
    "        dst_txt = os.path.join(folder,'labels',f'{file}.txt')\n",
    "        shutil.move(src_txt,dst_txt)"
   ]
  },
  {
   "cell_type": "code",
   "execution_count": 41,
   "metadata": {},
   "outputs": [],
   "source": [
    "transfer_files(paths['TRAIN_PATH'],list(train_set))\n",
    "transfer_files(paths['VALID_PATH'],list(valid_set))\n",
    "transfer_files(paths['TEST_PATH'],list(test_set))"
   ]
  },
  {
   "attachments": {},
   "cell_type": "markdown",
   "metadata": {},
   "source": [
    "## Train, Valid And Test Repartition"
   ]
  },
  {
   "cell_type": "code",
   "execution_count": 20,
   "metadata": {},
   "outputs": [],
   "source": [
    "def color(array) : \n",
    "    data_normalizer = mp.colors.Normalize()\n",
    "    color_map = mp.colors.LinearSegmentedColormap(\n",
    "        \"my_map\",\n",
    "        {\n",
    "            \"red\": [(0, 1, 1),\n",
    "                (1.0, 0.5, 0.5)],\n",
    "            \"green\": [(0, 0.5, 0.5),\n",
    "                (1.0, 0, 0)],\n",
    "            \"blue\": [(0, 0.5, 0.5),\n",
    "                (1.0, 0, 0)],\n",
    "        }\n",
    "    )\n",
    "    return color_map(data_normalizer(array))"
   ]
  },
  {
   "cell_type": "code",
   "execution_count": 21,
   "metadata": {},
   "outputs": [],
   "source": [
    "def get_labels_repartition(label_files,label_names):\n",
    "    label_map = {label:i for i,label in enumerate(label_names)}\n",
    "    results = {label:0 for label in label_names}\n",
    "    for file in label_files:\n",
    "        with open(file,'r') as f:\n",
    "            text = f.read()\n",
    "            text = text.split('\\n')\n",
    "            if not text[-1]:\n",
    "                text = text[:-1]\n",
    "            for line in text :\n",
    "                for label in label_map:\n",
    "                    if label_map[label] == int(line[0]):\n",
    "                        l = label  \n",
    "                        break\n",
    "                results[l] += 1\n",
    "    return results\n",
    "\n",
    "def get_images_repartition(image_files,label_names):\n",
    "    label_names.append('background')\n",
    "    label_names.append('multiple')\n",
    "    results = {label:0 for label in label_names}\n",
    "    for image in image_files:\n",
    "        for label in label_names:\n",
    "            detect = f'{label}_'\n",
    "            if detect in image :\n",
    "                results[label] += 1\n",
    "                break\n",
    "    return results"
   ]
  },
  {
   "cell_type": "code",
   "execution_count": 22,
   "metadata": {},
   "outputs": [],
   "source": [
    "test_images = [os.path.join(paths['TEST_PATH'],'images',file) for file in os.listdir(os.path.join(paths['TEST_PATH'],'images'))]\n",
    "test_images_repartition = get_images_repartition(test_images,labels.copy())\n",
    "test_labels = [os.path.join(paths['TEST_PATH'],'labels',file) for file in os.listdir(os.path.join(paths['TEST_PATH'],'labels'))]\n",
    "test_labels_repartition = get_labels_repartition(test_labels,labels.copy())\n",
    "\n",
    "train_images = [os.path.join(paths['TRAIN_PATH'],'images',file) for file in os.listdir(os.path.join(paths['TRAIN_PATH'],'images'))]\n",
    "train_images_repartition = get_images_repartition(train_images,labels.copy())\n",
    "train_labels = [os.path.join(paths['TRAIN_PATH'],'labels',file) for file in os.listdir(os.path.join(paths['TRAIN_PATH'],'labels'))]\n",
    "train_labels_repartition = get_labels_repartition(train_labels,labels.copy())  \n",
    "\n",
    "valid_images = [os.path.join(paths['VALID_PATH'],'images',file) for file in os.listdir(os.path.join(paths['VALID_PATH'],'images'))]\n",
    "valid_images_repartition = get_images_repartition(valid_images,labels.copy())\n",
    "valid_labels = [os.path.join(paths['VALID_PATH'],'labels',file) for file in os.listdir(os.path.join(paths['VALID_PATH'],'labels'))]\n",
    "valid_labels_repartition = get_labels_repartition(valid_labels,labels.copy())"
   ]
  },
  {
   "cell_type": "code",
   "execution_count": 23,
   "metadata": {},
   "outputs": [
    {
     "data": {
      "image/png": "[encoded data removed]",
      "text/plain": [
       "<Figure size 1600x600 with 6 Axes>"
      ]
     },
     "metadata": {},
     "output_type": "display_data"
    }
   ],
   "source": [
    "test_num_labels = np.array(list(test_images_repartition.values()))\n",
    "train_num_labels = np.array(list(train_images_repartition.values()))\n",
    "valid_num_labels = np.array(list(valid_images_repartition.values()))\n",
    "\n",
    "fig, axes = plt.subplots(2, 3, figsize=(16, 6))\n",
    "\n",
    "ax = axes[0][0]\n",
    "ax.bar(list(train_images_repartition.keys()),train_num_labels,color=color(train_num_labels))\n",
    "ax.set_xlabel('Labels')\n",
    "ax.set_ylabel('Number of Labels')\n",
    "ax.set_title('Training Absolue')\n",
    "\n",
    "\n",
    "ax = axes[0][1]\n",
    "ax.bar(list(valid_images_repartition.keys()),valid_num_labels,color=color(valid_num_labels))\n",
    "ax.set_xlabel('Labels')\n",
    "ax.set_ylabel('Number of Labels')\n",
    "ax.set_title('Validation Absolue')\n",
    "\n",
    "ax = axes[0][2]\n",
    "ax.bar(list(test_images_repartition.keys()),test_num_labels,color=color(test_num_labels))\n",
    "ax.set_xlabel('Labels')\n",
    "ax.set_ylabel('Number of Labels')\n",
    "ax.set_title('Test Absolue')\n",
    "\n",
    "ax = axes[1][0]\n",
    "ax.bar(list(train_images_repartition.keys()),train_num_labels/np.sum(train_num_labels),color=color(train_num_labels/np.sum(train_num_labels)))\n",
    "ax.set_xlabel('Labels')\n",
    "ax.set_ylabel('Number of Labels')\n",
    "ax.set_title('Training Relative')\n",
    "\n",
    "ax = axes[1][1]\n",
    "ax.bar(list(valid_images_repartition.keys()),valid_num_labels/np.sum(valid_num_labels),color=color(valid_num_labels/np.sum(valid_num_labels)))\n",
    "ax.set_xlabel('Labels')\n",
    "ax.set_ylabel('Number of Labels')\n",
    "ax.set_title('Validation Relative')\n",
    "\n",
    "ax = axes[1][2]\n",
    "ax.bar(list(test_images_repartition.keys()),test_num_labels/np.sum(test_num_labels),color=color(test_num_labels/np.sum(test_num_labels)))\n",
    "ax.set_xlabel('Labels')\n",
    "ax.set_ylabel('Number of Labels')\n",
    "ax.set_title('Test Relative')\n",
    "\n",
    "fig.suptitle('Images Repoartition')\n",
    "fig.tight_layout()\n",
    "plt.show()"
   ]
  },
  {
   "cell_type": "code",
   "execution_count": 24,
   "metadata": {},
   "outputs": [
    {
     "data": {
      "image/png": "[encoded data removed]",
      "text/plain": [
       "<Figure size 1600x600 with 6 Axes>"
      ]
     },
     "metadata": {},
     "output_type": "display_data"
    }
   ],
   "source": [
    "test_num_labels = np.array(list(test_labels_repartition.values()))\n",
    "train_num_labels = np.array(list(train_labels_repartition.values()))\n",
    "valid_num_labels = np.array(list(valid_labels_repartition.values()))\n",
    "\n",
    "fig, axes = plt.subplots(2, 3, figsize=(16, 6))\n",
    "\n",
    "ax = axes[0][0]\n",
    "ax.bar(list(train_labels_repartition.keys()),train_num_labels,color=color(train_num_labels))\n",
    "ax.set_xlabel('Labels')\n",
    "ax.set_ylabel('Number of Labels')\n",
    "ax.set_title('Training Absolue')\n",
    "\n",
    "\n",
    "ax = axes[0][1]\n",
    "ax.bar(list(valid_labels_repartition.keys()),valid_num_labels,color=color(valid_num_labels))\n",
    "ax.set_xlabel('Labels')\n",
    "ax.set_ylabel('Number of Labels')\n",
    "ax.set_title('Validation Absolue')\n",
    "\n",
    "ax = axes[0][2]\n",
    "ax.bar(list(test_labels_repartition.keys()),test_num_labels,color=color(test_num_labels))\n",
    "ax.set_xlabel('Labels')\n",
    "ax.set_ylabel('Number of Labels')\n",
    "ax.set_title('Test Absolue')\n",
    "\n",
    "ax = axes[1][0]\n",
    "ax.bar(list(train_labels_repartition.keys()),train_num_labels/np.sum(train_num_labels),color=color(train_num_labels/np.sum(train_num_labels)))\n",
    "ax.set_xlabel('Labels')\n",
    "ax.set_ylabel('Number of Labels')\n",
    "ax.set_title('Training Relative')\n",
    "\n",
    "ax = axes[1][1]\n",
    "ax.bar(list(valid_labels_repartition.keys()),valid_num_labels/np.sum(valid_num_labels),color=color(valid_num_labels/np.sum(valid_num_labels)))\n",
    "ax.set_xlabel('Labels')\n",
    "ax.set_ylabel('Number of Labels')\n",
    "ax.set_title('Validation Relative')\n",
    "\n",
    "ax = axes[1][2]\n",
    "ax.bar(list(test_labels_repartition.keys()),test_num_labels/np.sum(test_num_labels),color=color(test_num_labels/np.sum(test_num_labels)))\n",
    "ax.set_xlabel('Labels')\n",
    "ax.set_ylabel('Number of Labels')\n",
    "ax.set_title('Test Relative')\n",
    "\n",
    "fig.suptitle('Labels Repoartition')\n",
    "fig.tight_layout()\n",
    "plt.show()"
   ]
  },
  {
   "attachments": {},
   "cell_type": "markdown",
   "metadata": {},
   "source": [
    "## Images Aumgentation\n",
    "\n",
    "Create yaml file to increase number of images"
   ]
  },
  {
   "cell_type": "code",
   "execution_count": 24,
   "metadata": {},
   "outputs": [],
   "source": [
    "path = os.path.join(paths['YOLO5_PATH'],'data','hyps','hyp.scratch-med.yaml')\n",
    "with open(path, 'r') as file:\n",
    "    hyp_yaml = yaml.safe_load(file)"
   ]
  },
  {
   "cell_type": "code",
   "execution_count": 25,
   "metadata": {},
   "outputs": [],
   "source": [
    "with open(files['IMG_AUGMENTATION_YAML'], 'w') as file:\n",
    "    documents = yaml.dump(hyp_yaml, file)"
   ]
  },
  {
   "attachments": {},
   "cell_type": "markdown",
   "metadata": {},
   "source": [
    "## Train Model"
   ]
  },
  {
   "cell_type": "code",
   "execution_count": 18,
   "metadata": {},
   "outputs": [],
   "source": [
    "img_size = 640\n",
    "batch = 5\n",
    "epochs = 2\n",
    "workers = 2\n",
    "yolo_model_type = 'n' #n or s # if start from scratch\n",
    "model_number = None # model from where to start, None if start from scratch"
   ]
  },
  {
   "cell_type": "code",
   "execution_count": 14,
   "metadata": {},
   "outputs": [],
   "source": [
    "if model_number is not None:\n",
    "    model_path = os.path.join(paths['MODELS_PATH'],'train',f'model_{model_number}')\n",
    "    weights_path = os.path.join(model_path,'weights','best.pt')\n",
    "else : \n",
    "    weights_path = None\n",
    "    \n",
    "if yolo_model_type == 'n':\n",
    "    cfg_path = files['YOLO5N_YAML']\n",
    "elif yolo_model_type == 's':\n",
    "    cfg_path = files['YOLO5S_YAML']"
   ]
  },
  {
   "cell_type": "code",
   "execution_count": 15,
   "metadata": {},
   "outputs": [],
   "source": [
    "try:\n",
    "    model_number = max(int(name[-1]) for name in os.listdir(os.path.join(paths['MODELS_PATH'],'train')))+1\n",
    "except Exception:\n",
    "    model_number = 0\n",
    "new_model_path = os.path.join(paths['MODELS_PATH'],'train',f'model_{model_number}')"
   ]
  },
  {
   "cell_type": "code",
   "execution_count": 16,
   "metadata": {},
   "outputs": [
    {
     "name": "stdout",
     "output_type": "stream",
     "text": [
      "/home/alessandrini/Documents/Robot/Eden_Robotics/Python/vision/detection/yolo/data/models/train/model_1\n",
      "None\n",
      "/home/alessandrini/Documents/Robot/Eden_Robotics/Python/vision/detection/yolo/yolov5/models/yolov5n.yaml\n"
     ]
    }
   ],
   "source": [
    "print(new_model_path)\n",
    "print(weights_path)\n",
    "print(cfg_path)"
   ]
  },
  {
   "cell_type": "code",
   "execution_count": 19,
   "metadata": {},
   "outputs": [
    {
     "name": "stdout",
     "output_type": "stream",
     "text": [
      "python /home/alessandrini/Documents/Robot/Eden_Robotics/Python/vision/detection/yolo/yolov5/train.py --img 640 --batch 5 --epochs 2 --data /home/alessandrini/Documents/Robot/Eden_Robotics/Python/vision/detection/yolo/data/dataset.yaml --cfg /home/alessandrini/Documents/Robot/Eden_Robotics/Python/vision/detection/yolo/yolov5/models/yolov5n.yaml --workers 2 --project /home/alessandrini/Documents/Robot/Eden_Robotics/Python/vision/detection/yolo/data/models --name /home/alessandrini/Documents/Robot/Eden_Robotics/Python/vision/detection/yolo/data/models/train/model_1 --hyp /home/alessandrini/Documents/Robot/Eden_Robotics/Python/vision/detection/yolo/data/hyp_img_augm.yaml\n"
     ]
    }
   ],
   "source": [
    "command = f'python {files[\"TRAIN_PY\"]} --img {img_size} --batch {batch} --epochs {epochs} --data {files[\"DATASET_YAML\"]} --cfg {cfg_path} --workers {workers} --project {paths[\"MODELS_PATH\"]} --name {new_model_path} --hyp {files[\"IMG_AUGMENTATION_YAML\"]}'\n",
    "if weights_path : \n",
    "    command = f'{command} --weights {weights_path}'\n",
    "print(command)"
   ]
  },
  {
   "attachments": {},
   "cell_type": "markdown",
   "metadata": {},
   "source": [
    "## Evalutate Model"
   ]
  },
  {
   "cell_type": "code",
   "execution_count": 34,
   "metadata": {},
   "outputs": [],
   "source": [
    "model_number = 3"
   ]
  },
  {
   "cell_type": "code",
   "execution_count": 35,
   "metadata": {},
   "outputs": [],
   "source": [
    "test_model_path = os.path.join(paths['MODELS_PATH'],'test',f'model_{model_number}')\n",
    "train_model_path = os.path.join(paths['MODELS_PATH'],'train',f'model_{model_number}')\n",
    "weigths_path =  os.path.join(paths['MODELS_PATH'],'train',f'model_{model_number}','weights','best.pt')"
   ]
  },
  {
   "cell_type": "code",
   "execution_count": 36,
   "metadata": {},
   "outputs": [
    {
     "name": "stdout",
     "output_type": "stream",
     "text": [
      "\u001b[34m\u001b[1mval: \u001b[0mdata=/home/alessandrini/Documents/Robot/Eden_Robotics/Python/vision/detection/yolo/data/dataset.yaml, weights=['/home/alessandrini/Documents/Robot/Eden_Robotics/Python/vision/detection/yolo/data/models/train/model_2/weights/best.pt'], batch_size=32, imgsz=640, conf_thres=0.001, iou_thres=0.6, max_det=300, task=val, device=, workers=8, single_cls=False, augment=False, verbose=False, save_txt=False, save_hybrid=False, save_conf=False, save_json=False, project=/home/alessandrini/Documents/Robot/Eden_Robotics/Python/vision/detection/yolo/data/models, name=/home/alessandrini/Documents/Robot/Eden_Robotics/Python/vision/detection/yolo/data/models/test/model_2, exist_ok=False, half=False, dnn=False\n",
      "YOLOv5 🚀 v7.0-53-g65071da Python-3.8.10 torch-1.12.1+cpu CPU\n",
      "\n",
      "Fusing layers... \n",
      "YOLOv5n summary: 157 layers, 1764577 parameters, 0 gradients, 4.1 GFLOPs\n",
      "\u001b[34m\u001b[1mval: \u001b[0mScanning /home/alessandrini/Documents/Robot/Eden_Robotics/Python/vision/det\u001b[0m\n",
      "                 Class     Images  Instances          P          R      mAP50   \n",
      "                   all         29         32      0.743      0.315      0.299      0.124\n",
      "                   pen         29          2          1          0     0.0312     0.0125\n",
      "                pencil         29         30      0.486       0.63      0.566      0.236\n",
      "Speed: 4.8ms pre-process, 124.5ms inference, 3.7ms NMS per image at shape (32, 3, 640, 640)\n",
      "Results saved to \u001b[1m/home/alessandrini/Documents/Robot/Eden_Robotics/Python/vision/detection/yolo/data/models/test/model_2\u001b[0m\n"
     ]
    }
   ],
   "source": [
    "command = f'python {files[\"VALIDATE_PY\"]} --weights {weigths_path} --data {files[\"DATASET_YAML\"]} --img {img_size} --project {paths[\"MODELS_PATH\"]} --name {test_model_path}'\n",
    "!{command}"
   ]
  },
  {
   "cell_type": "code",
   "execution_count": 80,
   "metadata": {},
   "outputs": [
    {
     "name": "stdout",
     "output_type": "stream",
     "text": [
      "TensorFlow installation not found - running with reduced feature set.\n",
      "\n",
      "NOTE: Using experimental fast data loading logic. To disable, pass\n",
      "    \"--load_fast=false\" and report issues on GitHub. More details:\n",
      "    https://github.com/tensorflow/tensorboard/issues/4784\n",
      "\n",
      "Serving TensorBoard on localhost; to expose to the network, use a proxy or pass --bind_all\n",
      "TensorBoard 2.11.0 at http://localhost:6006/ (Press CTRL+C to quit)\n",
      "^C\n"
     ]
    }
   ],
   "source": [
    "!tensorboard --logdir {paths['MODELS_PATH']}"
   ]
  },
  {
   "attachments": {},
   "cell_type": "markdown",
   "metadata": {},
   "source": [
    "## Load Model"
   ]
  },
  {
   "cell_type": "code",
   "execution_count": 37,
   "metadata": {},
   "outputs": [],
   "source": [
    "model_name = 'model_2'"
   ]
  },
  {
   "cell_type": "code",
   "execution_count": 82,
   "metadata": {},
   "outputs": [],
   "source": [
    "model_path = os.path.join(paths['MODELS_PATH'],'train',model_name)\n",
    "weigths_path = os.path.join(model_path,'weights','best.pt')"
   ]
  },
  {
   "cell_type": "code",
   "execution_count": 83,
   "metadata": {},
   "outputs": [
    {
     "name": "stderr",
     "output_type": "stream",
     "text": [
      "Downloading: \"https://github.com/ultralytics/yolov5/zipball/master\" to /home/alessandrini/.cache/torch/hub/master.zip\n",
      "YOLOv5 🚀 2022-12-31 Python-3.8.10 torch-1.13.1+cpu CPU\n",
      "\n",
      "Fusing layers... \n",
      "YOLOv5n summary: 157 layers, 1764577 parameters, 0 gradients, 4.1 GFLOPs\n",
      "Adding AutoShape... \n"
     ]
    }
   ],
   "source": [
    "model = torch.hub.load('ultralytics/yolov5', 'custom', path=weigths_path, force_reload=True)"
   ]
  },
  {
   "attachments": {},
   "cell_type": "markdown",
   "metadata": {},
   "source": [
    "## Real Time Detection"
   ]
  },
  {
   "cell_type": "code",
   "execution_count": 85,
   "metadata": {},
   "outputs": [],
   "source": [
    "# set model confidence limit\n",
    "model.conf = 0.2\n",
    "dimension = (img_size,img_size)"
   ]
  },
  {
   "cell_type": "code",
   "execution_count": 86,
   "metadata": {},
   "outputs": [],
   "source": [
    "cap = cv2.VideoCapture(0)\n",
    "\n",
    "prev_frame_time = 0\n",
    "new_frame_time = 0\n",
    "\n",
    "while cap.isOpened():\n",
    "    ret, frame = cap.read()\n",
    "    frame = cv2.resize(frame,dimension)\n",
    "    # Make detections \n",
    "    results = model(frame)\n",
    "    results_frame = np.squeeze(results.render())\n",
    "\n",
    "    new_frame_time = time.time()\n",
    "    fps = round(1/(new_frame_time-prev_frame_time),2)\n",
    "    prev_frame_time = new_frame_time\n",
    "    cv2.putText(results_frame, f'FPS : {fps}Hz', (2, 20), cv2.FONT_HERSHEY_SIMPLEX, 0.5, (100, 255, 0), 1, cv2.LINE_AA)\n",
    "    cv2.imshow('YOLO', results_frame)\n",
    "    \n",
    "    if cv2.waitKey(1) & 0xFF == ord('q'):\n",
    "        break\n",
    "cap.release()\n",
    "cv2.destroyAllWindows()"
   ]
  },
  {
   "attachments": {},
   "cell_type": "markdown",
   "metadata": {},
   "source": [
    "## Image Recognition"
   ]
  },
  {
   "cell_type": "code",
   "execution_count": 87,
   "metadata": {},
   "outputs": [],
   "source": [
    "# set model confidence limit\n",
    "model.conf = 0.2\n",
    "dimension = (img_size,img_size)\n",
    "n = 2"
   ]
  },
  {
   "cell_type": "code",
   "execution_count": null,
   "metadata": {},
   "outputs": [],
   "source": [
    "images = [name for name in os.listdir(os.path.join(paths['TEST_PATH'],'images')) if name.endswith('.jpg')]\n",
    "\n",
    "for image in images[:]:\n",
    "    results = model(os.path.join(paths['TEST_PATH'],'images',image))\n",
    "    results.print()\n",
    "    %matplotlib inline \n",
    "    plt.imshow(np.squeeze(results.render()))\n",
    "    plt.show()"
   ]
  },
  {
   "attachments": {},
   "cell_type": "markdown",
   "metadata": {},
   "source": [
    "## Export\n",
    "\n",
    "We export to the ONNX format so we can use it with cv2.dnn module instead of pytorch."
   ]
  },
  {
   "cell_type": "code",
   "execution_count": 11,
   "metadata": {},
   "outputs": [],
   "source": [
    "model_number = 4\n",
    "weigths_path =  os.path.join(paths['MODELS_PATH'],'train',f'model_{model_number}','weights','best.pt')"
   ]
  },
  {
   "cell_type": "code",
   "execution_count": 12,
   "metadata": {},
   "outputs": [
    {
     "name": "stdout",
     "output_type": "stream",
     "text": [
      "Traceback (most recent call last):\n",
      "  File \"/home/alessandrini/Documents/Robot/Eden_Robotics/Python/vision/detection/yolo/yolov5/export.py\", line 60, in <module>\n",
      "    import torch\n",
      "  File \"/home/alessandrini/.local/lib/python3.8/site-packages/torch/__init__.py\", line 753, in <module>\n",
      "    from .serialization import save, load\n",
      "  File \"/home/alessandrini/.local/lib/python3.8/site-packages/torch/serialization.py\", line 18, in <module>\n",
      "    from typing_extensions import TypeAlias\n",
      "ImportError: cannot import name 'TypeAlias' from 'typing_extensions' (/usr/lib/python3/dist-packages/typing_extensions.py)\n"
     ]
    }
   ],
   "source": [
    "!python {files['EXPORT_PY']} --weights {weigths_path} --include onnx --imgsz {img_size} {img_size}"
   ]
  },
  {
   "attachments": {},
   "cell_type": "markdown",
   "metadata": {},
   "source": [
    "## Detection With OpenCV DNN"
   ]
  },
  {
   "cell_type": "code",
   "execution_count": 91,
   "metadata": {},
   "outputs": [],
   "source": [
    "INPUT_WIDTH = img_size\n",
    "INPUT_HEIGHT = img_size\n",
    "SCORE_THRESHOLD = 0.2\n",
    "NMS_THRESHOLD = 0.4\n",
    "CONFIDENCE_THRESHOLD = 0.4"
   ]
  },
  {
   "cell_type": "code",
   "execution_count": 92,
   "metadata": {},
   "outputs": [],
   "source": [
    "def build_model(model_path):\n",
    "    net = cv2.dnn.readNet(model_path)\n",
    "    net.setPreferableBackend(cv2.dnn.DNN_BACKEND_OPENCV)\n",
    "    net.setPreferableTarget(cv2.dnn.DNN_TARGET_CPU)\n",
    "    return net"
   ]
  },
  {
   "cell_type": "code",
   "execution_count": 93,
   "metadata": {},
   "outputs": [],
   "source": [
    "def detect(image, net):\n",
    "    blob = cv2.dnn.blobFromImage(image, 1/255.0, size = (INPUT_WIDTH, INPUT_HEIGHT), swapRB=True, crop=False)\n",
    "    net.setInput(blob)\n",
    "    return net.forward()"
   ]
  },
  {
   "cell_type": "code",
   "execution_count": 94,
   "metadata": {},
   "outputs": [],
   "source": [
    "def wrap_detection(input_image, output_data):\n",
    "    class_ids = []\n",
    "    confidences = []\n",
    "    boxes = []\n",
    "\n",
    "    rows = output_data.shape[0]\n",
    "\n",
    "    image_width, image_height, _ = input_image.shape\n",
    "\n",
    "    x_factor = image_width / INPUT_WIDTH\n",
    "    y_factor =  image_height / INPUT_HEIGHT\n",
    "\n",
    "    for r in range(rows):\n",
    "        row = output_data[r]\n",
    "        confidence = row[4]\n",
    "        if confidence >= 0.4:\n",
    "\n",
    "            classes_scores = row[5:]\n",
    "            _, _, _, max_indx = cv2.minMaxLoc(classes_scores)\n",
    "            class_id = max_indx[1]\n",
    "            if (classes_scores[class_id] > .25):\n",
    "\n",
    "                confidences.append(confidence)\n",
    "\n",
    "                class_ids.append(class_id)\n",
    "\n",
    "                x, y, w, h = row[0].item(), row[1].item(), row[2].item(), row[3].item() \n",
    "                left = int((x - 0.5 * w) * x_factor)\n",
    "                top = int((y - 0.5 * h) * y_factor)\n",
    "                width = int(w * x_factor)\n",
    "                height = int(h * y_factor)\n",
    "                box = np.array([left, top, width, height])\n",
    "                boxes.append(box)\n",
    "\n",
    "    indexes = cv2.dnn.NMSBoxes(boxes, confidences, 0.25, 0.45) \n",
    "\n",
    "    result_class_ids = []\n",
    "    result_confidences = []\n",
    "    result_boxes = []\n",
    "\n",
    "    for i in indexes:\n",
    "        result_confidences.append(confidences[i])\n",
    "        result_class_ids.append(class_ids[i])\n",
    "        result_boxes.append(boxes[i])\n",
    "\n",
    "    return result_class_ids, result_confidences, result_boxes"
   ]
  },
  {
   "cell_type": "code",
   "execution_count": 95,
   "metadata": {},
   "outputs": [],
   "source": [
    "def format_yolov5(frame):\n",
    "    row, col, _ = frame.shape\n",
    "    _max = max(col, row)\n",
    "    result = np.zeros((_max, _max, 3), np.uint8)\n",
    "    result[0:row, 0:col] = frame\n",
    "    return result"
   ]
  },
  {
   "cell_type": "code",
   "execution_count": 96,
   "metadata": {},
   "outputs": [],
   "source": [
    "model_name = 'model_1'\n",
    "model_path = os.path.join(paths['MODELS_PATH'],'train',model_name,'weights','best.onnx')"
   ]
  },
  {
   "cell_type": "code",
   "execution_count": 112,
   "metadata": {},
   "outputs": [
    {
     "name": "stderr",
     "output_type": "stream",
     "text": [
      "[ERROR:0@2465.576] global onnx_importer.cpp:1051 handleNode DNN/ONNX: ERROR during processing node with 2 inputs and 1 outputs: [Add]:(onnx_node!/model.24/Add) from domain='ai.onnx'\n"
     ]
    },
    {
     "ename": "error",
     "evalue": "OpenCV(4.7.0) /io/opencv/modules/dnn/src/onnx/onnx_importer.cpp:1073: error: (-2:Unspecified error) in function 'handleNode'\n> Node [Add@ai.onnx]:(onnx_node!/model.24/Add) parse error: OpenCV(4.7.0) /io/opencv/modules/dnn/src/layers/nary_eltwise_layers.cpp:139: error: (-215:Assertion failed) shape[i] == 1 || outShape[i] == 1 in function 'findCommonShape'\n> ",
     "output_type": "error",
     "traceback": [
      "\u001b[0;31m---------------------------------------------------------------------------\u001b[0m",
      "\u001b[0;31merror\u001b[0m                                     Traceback (most recent call last)",
      "Cell \u001b[0;32mIn[112], line 1\u001b[0m\n\u001b[0;32m----> 1\u001b[0m net \u001b[39m=\u001b[39m cv2\u001b[39m.\u001b[39;49mdnn\u001b[39m.\u001b[39;49mreadNet(model_path)\n",
      "\u001b[0;31merror\u001b[0m: OpenCV(4.7.0) /io/opencv/modules/dnn/src/onnx/onnx_importer.cpp:1073: error: (-2:Unspecified error) in function 'handleNode'\n> Node [Add@ai.onnx]:(onnx_node!/model.24/Add) parse error: OpenCV(4.7.0) /io/opencv/modules/dnn/src/layers/nary_eltwise_layers.cpp:139: error: (-215:Assertion failed) shape[i] == 1 || outShape[i] == 1 in function 'findCommonShape'\n> "
     ]
    }
   ],
   "source": [
    "net = cv2.dnn.readNet(model_path)"
   ]
  },
  {
   "cell_type": "code",
   "execution_count": 71,
   "metadata": {},
   "outputs": [],
   "source": [
    "cap = cv2.VideoCapture(0)\n",
    "net = build_model(model_path)\n",
    "\n",
    "prev_frame_time = 0\n",
    "new_frame_time = 0\n",
    "\n",
    "colors = (random.randint(0, 255), random.randint(0,255), random.randint(0, 255))\n",
    "\n",
    "while cap.isOpened():\n",
    "    ret, frame = cap.read()\n",
    "    frame = cv2.resize(frame,(img_size,img_size))\n",
    "    # Make detections \n",
    "    inputImage = format_yolov5(frame)\n",
    "    outs = detect(inputImage, net)\n",
    "    class_ids, confidences, boxes = wrap_detection(inputImage, outs[0])\n",
    "\n",
    "\n",
    "    for (classid, confidence, box) in zip(class_ids, confidences, boxes):\n",
    "         color = colors[int(classid) % len(colors)]\n",
    "         cv2.rectangle(frame, box, color, 2)\n",
    "         cv2.rectangle(frame, (box[0], box[1] - 20), (box[0] + box[2], box[1]), color, -1)\n",
    "         cv2.putText(frame, labels[classid], (box[0], box[1] - 10), cv2.FONT_HERSHEY_SIMPLEX, .5, (0,0,0))\n",
    "\n",
    "    new_frame_time = time.time()\n",
    "    fps = round(1/(new_frame_time-prev_frame_time),2)\n",
    "    prev_frame_time = new_frame_time\n",
    "    cv2.putText(frame, f'FPS : {fps}Hz', (2, 20), cv2.FONT_HERSHEY_SIMPLEX, 0.5, (100, 255, 0), 1, cv2.LINE_AA)\n",
    "    cv2.imshow('YOLO', frame)\n",
    "    \n",
    "    if cv2.waitKey(1) & 0xFF == ord('q'):\n",
    "        break\n",
    "\n",
    "cap.release()\n",
    "cv2.destroyAllWindows()"
   ]
  }
 ],
 "metadata": {
  "kernelspec": {
   "display_name": "yolovenv",
   "language": "python",
   "name": "yolovenv"
  },
  "language_info": {
   "codemirror_mode": {
    "name": "ipython",
    "version": 3
   },
   "file_extension": ".py",
   "mimetype": "text/x-python",
   "name": "python",
   "nbconvert_exporter": "python",
   "pygments_lexer": "ipython3",
   "version": "3.8.10"
  },
  "orig_nbformat": 4,
  "vscode": {
   "interpreter": {
    "hash": "97e2bca07f35d8b8133a4979ad080ac2e92539430d8085aa88238029a676fa53"
   }
  }
 },
 "nbformat": 4,
 "nbformat_minor": 2
}
