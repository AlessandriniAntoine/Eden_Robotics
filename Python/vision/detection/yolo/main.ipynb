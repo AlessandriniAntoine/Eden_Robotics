{
 "cells": [
  {
   "attachments": {},
   "cell_type": "markdown",
   "metadata": {},
   "source": [
    "# Custom Yolo Object Detector\n",
    "\n",
    "This notebook shows how to build a model to detect object using Yolov5 model.\n",
    "\n",
    "To simplify the training and not use our computer, I used a [google colab](https://colab.research.google.com/drive/14k9hhVmwXhlVeTCJ0x2FTPjnwGerj2i1?usp=share_link)\n",
    "\n",
    "To upload images on google colab, you have two solutions : \n",
    "- label and split them with this notebook and upload them by hand directly to google colab.\n",
    "- Label them or not with this notebook and upload them on Roboflow website. There, you can label them et upload directly to google colab as shown.\n",
    "\n",
    "In both case, [Roboflow](https://roboflow.com/) is a really good tool to find datasets already labelize.\n",
    "\n",
    "## Virtual environnement \n",
    "Creation virtual environnement and install package to use jupyter notebook:\n",
    "```console\n",
    "python -m venv env\n",
    "source ./env/bin/activate\n",
    "python -m pip install --upgrade pip\n",
    "pip install ipykernel\n",
    "python -m ipykernel install --user --name=env\n",
    "```\n",
    "\n",
    "Then one the jupyter notebook select the correct kernel.\n",
    "\n",
    "Once it is created, you should not push the virtual environment to github. With this command, you can add all files execpt some folders :\n",
    "```console\n",
    "git add -- . ':!path_to_folder1' ':!path_to_folder2'\n",
    "```\n",
    "\n",
    "Depending on the geometry of the objects, it can be interesting to have bounding boxes that can be rotated. For this, you can look at the github directory [yolov5_bb](https://github.com/hukaixuan19970627/yolov5_obb.git). En revanche il n'y a pas d'outils pour labeliser directement les images.\n",
    "\n",
    "## Install Dependencies"
   ]
  },
  {
   "cell_type": "code",
   "execution_count": null,
   "metadata": {},
   "outputs": [],
   "source": [
    "!pip install labelImg opencv-python matplotlib bing-image-downloader pyaml"
   ]
  },
  {
   "cell_type": "code",
   "execution_count": null,
   "metadata": {},
   "outputs": [],
   "source": [
    "!pip list"
   ]
  },
  {
   "attachments": {},
   "cell_type": "markdown",
   "metadata": {},
   "source": [
    "## Import Packages"
   ]
  },
  {
   "cell_type": "code",
   "execution_count": 4,
   "metadata": {},
   "outputs": [],
   "source": [
    "import os\n",
    "import shutil\n",
    "import time\n",
    "\n",
    "import numpy as np\n",
    "import random\n",
    "from matplotlib import pyplot as plt\n",
    "import matplotlib as mp\n",
    "import yaml\n",
    "\n",
    "import cv2"
   ]
  },
  {
   "attachments": {},
   "cell_type": "markdown",
   "metadata": {},
   "source": [
    "## Create Folders"
   ]
  },
  {
   "cell_type": "code",
   "execution_count": 5,
   "metadata": {},
   "outputs": [],
   "source": [
    "DIR_PATH = os.getcwd()"
   ]
  },
  {
   "cell_type": "code",
   "execution_count": 12,
   "metadata": {},
   "outputs": [],
   "source": [
    "paths = {\n",
    "    'DATA' : os.path.join(DIR_PATH,'data'),\n",
    "    'IMAGES' : os.path.join(DIR_PATH,'data','images'),\n",
    "    'MODELS' : os.path.join(DIR_PATH,'data','models'),\n",
    "    'SCRIPTS' : os.path.join(DIR_PATH,'scripts'),\n",
    "    'TEST' : os.path.join(DIR_PATH,'data','test'),\n",
    "    'TRAIN' : os.path.join(DIR_PATH,'data','train'),\n",
    "    'VALID' : os.path.join(DIR_PATH,'data','valid'),\n",
    "    'ZIP' : os.path.join(DIR_PATH,'data','zip'),\n",
    "}"
   ]
  },
  {
   "cell_type": "code",
   "execution_count": 14,
   "metadata": {},
   "outputs": [],
   "source": [
    "files = {\n",
    "    'CAPTURE_PY' : os.path.join(paths['SCRIPTS'],'capture.py'),\n",
    "    'CLASSES_TXT' : os.path.join(paths['DATA'],'images','classes.txt'),\n",
    "    'DATASET_YAML' : os.path.join(paths['DATA'],'data.yaml'),\n",
    "    'DOWNLOAD_PY' : os.path.join(paths['SCRIPTS'],'download_image.py'),\n",
    "    'FILTER_PY' : os.path.join(paths['SCRIPTS'],'filter.py'),\n",
    "    'QUERY_TXT' : os.path.join(paths['SCRIPTS'],'query.txt'),\n",
    "}"
   ]
  },
  {
   "cell_type": "code",
   "execution_count": 18,
   "metadata": {},
   "outputs": [],
   "source": [
    "for path in paths.values():\n",
    "    if not os.path.exists(path):\n",
    "        if os.name == 'posix':\n",
    "            !mkdir -p {path}\n",
    "        if os.name == 'nt':\n",
    "            !mkdir {path}\n",
    "            \n",
    "for folder in ['TEST','TRAIN','VALID']:\n",
    "    for name in ['images','labels']:\n",
    "        path = os.path.join(paths[folder],name)\n",
    "        if not os.path.exists(path):\n",
    "            if os.name == 'posix':\n",
    "                !mkdir -p {path}\n",
    "            if os.name == 'nt':\n",
    "                !mkdir {path}"
   ]
  },
  {
   "attachments": {},
   "cell_type": "markdown",
   "metadata": {},
   "source": [
    "## Define Labels"
   ]
  },
  {
   "cell_type": "code",
   "execution_count": 6,
   "metadata": {},
   "outputs": [],
   "source": [
    "labels = ['pen','pencil','scissors','eraser']"
   ]
  },
  {
   "cell_type": "code",
   "execution_count": 7,
   "metadata": {},
   "outputs": [],
   "source": [
    "with open(files['CLASSES_TXT'], 'w') as f:\n",
    "    for label in labels:\n",
    "        f.write(label)\n",
    "        f.write('\\n')"
   ]
  },
  {
   "cell_type": "code",
   "execution_count": 8,
   "metadata": {},
   "outputs": [],
   "source": [
    "dataset_yaml = {\n",
    "    'path': paths['DATA'],\n",
    "    'train': os.path.join('train', 'images'),\n",
    "    'val': os.path.join('valid', 'images'),\n",
    "    'test': os.path.join('test', 'images'),\n",
    "    'names': dict(enumerate(labels)),\n",
    "}"
   ]
  },
  {
   "cell_type": "code",
   "execution_count": 9,
   "metadata": {},
   "outputs": [],
   "source": [
    "with open(files['DATASET_YAML'], 'w') as file:\n",
    "    documents = yaml.dump(dataset_yaml, file)"
   ]
  },
  {
   "attachments": {},
   "cell_type": "markdown",
   "metadata": {},
   "source": [
    "## Capture Images\n",
    "\n",
    "With the [capture](./scripts/capture.py) file, you can capture images. You have to precise :\n",
    "- images : path to store images\n",
    "- labels : path to text file containing labels\n",
    "- num : number of images per label\n",
    "\n",
    "It will display the webcam video : \n",
    "- press S to save image\n",
    "- press Q to move to next label\n",
    "\n",
    "You can also download images from google using the [download_image](./scripts/download_image.py). You have to precise :\n",
    "- images : path to store images\n",
    "- num : number of images per label\n",
    "- query :  path to text file containing a list of query to ask google (one per line), see [query](./scripts/query.txt)\n",
    "\n",
    "It is not really important that you images are label because they are rename at the next step with the correct label\n",
    "\n",
    "You might have conflict with opencv at this step, in that case run the following command (in a terminal)"
   ]
  },
  {
   "cell_type": "code",
   "execution_count": 12,
   "metadata": {},
   "outputs": [],
   "source": [
    "num = 2"
   ]
  },
  {
   "cell_type": "code",
   "execution_count": 13,
   "metadata": {},
   "outputs": [],
   "source": [
    "# capture from webcam\n",
    "command_capture = f'python {files[\"CAPTURE_PY\"]} --images {paths[\"IMAGES\"]} --labels {files[\"CLASSES_TXT\"]} --num {num}'\n",
    "!{command_capture}"
   ]
  },
  {
   "cell_type": "code",
   "execution_count": null,
   "metadata": {},
   "outputs": [],
   "source": [
    "# capture from google\n",
    "command_download = f'python {files[\"DOWNLOAD_PY\"]} --images {paths[\"IMAGES\"]} --query {files[\"QUERY_TXT\"]} --num {num}'\n",
    "!{command_download}"
   ]
  },
  {
   "attachments": {},
   "cell_type": "markdown",
   "metadata": {},
   "source": [
    "## Filter Data \n",
    "\n",
    "A PYQT5 [application](./filter.py) allows to listen to all the files saved, to decide to keep or delete it. If you keep it, you can precise :\n",
    "- images : path where images are stored\n",
    "- labels : path to text file containing labels\n",
    "\n",
    "A button for each label is created, when you click on it, it rename the file with the correct label in the name (label_date.jpg)\n",
    "\n",
    "You might have issue with opencv, in that case run the cell above  "
   ]
  },
  {
   "cell_type": "code",
   "execution_count": 31,
   "metadata": {},
   "outputs": [
    {
     "name": "stdout",
     "output_type": "stream",
     "text": [
      "Found existing installation: opencv-python 4.7.0.68\n",
      "Uninstalling opencv-python-4.7.0.68:\n",
      "  Successfully uninstalled opencv-python-4.7.0.68\n",
      "Collecting opencv-python-headless\n",
      "  Using cached opencv_python_headless-4.7.0.68-cp37-abi3-manylinux_2_17_x86_64.manylinux2014_x86_64.whl (49.2 MB)\n",
      "Requirement already satisfied: numpy>=1.17.0 in ./env/lib/python3.8/site-packages (from opencv-python-headless) (1.24.1)\n",
      "Installing collected packages: opencv-python-headless\n",
      "Successfully installed opencv-python-headless-4.7.0.68\n"
     ]
    }
   ],
   "source": [
    "!pip uninstall opencv-python --yes \n",
    "!pip install opencv-python-headless"
   ]
  },
  {
   "cell_type": "code",
   "execution_count": 35,
   "metadata": {},
   "outputs": [
    {
     "name": "stdout",
     "output_type": "stream",
     "text": [
      "python /home/alessandrini/Documents/Robot/Eden_Robotics/Python/vision/detection/yolo/scripts/filter.py --images /home/alessandrini/Documents/Robot/Eden_Robotics/Python/vision/detection/yolo/data/images --labels /home/alessandrini/Documents/Robot/Eden_Robotics/Python/vision/detection/yolo/data/images/classes.txt\n"
     ]
    }
   ],
   "source": [
    "command_app = f'python {files[\"FILTER_PY\"]} --images {paths[\"IMAGES\"]} --labels {files[\"CLASSES_TXT\"]}'\n",
    "print(command_app)"
   ]
  },
  {
   "cell_type": "code",
   "execution_count": 10,
   "metadata": {},
   "outputs": [
    {
     "name": "stdout",
     "output_type": "stream",
     "text": [
      "Found existing installation: opencv-python-headless 4.7.0.68\n",
      "Uninstalling opencv-python-headless-4.7.0.68:\n",
      "  Successfully uninstalled opencv-python-headless-4.7.0.68\n",
      "Collecting opencv-python\n",
      "  Using cached opencv_python-4.7.0.68-cp37-abi3-manylinux_2_17_x86_64.manylinux2014_x86_64.whl (61.8 MB)\n",
      "Requirement already satisfied: numpy>=1.17.0 in ./env/lib/python3.8/site-packages (from opencv-python) (1.24.1)\n",
      "Installing collected packages: opencv-python\n",
      "Successfully installed opencv-python-4.7.0.68\n"
     ]
    }
   ],
   "source": [
    "!pip uninstall opencv-python-headless --yes \n",
    "!pip install opencv-python"
   ]
  },
  {
   "attachments": {},
   "cell_type": "markdown",
   "metadata": {},
   "source": [
    "To the next part, run the cell above"
   ]
  },
  {
   "cell_type": "code",
   "execution_count": 36,
   "metadata": {},
   "outputs": [],
   "source": [
    "def rewrite_label_id(label): \n",
    "    files = [os.path.join(paths['IMAGES'],name) for name in os.listdir(paths['IMAGES']) if label in name and name.endswith('.txt')]\n",
    "    id = labels.index(label)\n",
    "    for file in files: \n",
    "        if f'{label}_' in file: \n",
    "            with open(file,'r') as f:\n",
    "                text = f.read()\n",
    "                text = text.split('\\n')\n",
    "                if not text[-1]:\n",
    "                    text = text[:-1]\n",
    "                text = [f'{id}{line[1:]}' for line in text]\n",
    "            with open(file, 'w') as f:\n",
    "                for line in text:\n",
    "                    f.write(line)\n",
    "                    f.write('\\n')"
   ]
  },
  {
   "cell_type": "code",
   "execution_count": 37,
   "metadata": {},
   "outputs": [],
   "source": [
    "rewrite_label_id('eraser')"
   ]
  },
  {
   "attachments": {},
   "cell_type": "markdown",
   "metadata": {},
   "source": [
    "## Label images\n",
    "\n",
    "Using the label application"
   ]
  },
  {
   "cell_type": "code",
   "execution_count": 34,
   "metadata": {},
   "outputs": [
    {
     "name": "stdout",
     "output_type": "stream",
     "text": [
      "Found existing installation: opencv-python 4.7.0.68\n",
      "Uninstalling opencv-python-4.7.0.68:\n",
      "  Successfully uninstalled opencv-python-4.7.0.68\n",
      "Collecting opencv-python-headless\n",
      "  Using cached opencv_python_headless-4.7.0.68-cp37-abi3-manylinux_2_17_x86_64.manylinux2014_x86_64.whl (49.2 MB)\n",
      "Requirement already satisfied: numpy>=1.17.0 in ./env/lib/python3.8/site-packages (from opencv-python-headless) (1.24.1)\n",
      "Installing collected packages: opencv-python-headless\n",
      "Successfully installed opencv-python-headless-4.7.0.68\n"
     ]
    }
   ],
   "source": [
    "!pip uninstall opencv-python --yes \n",
    "!pip install opencv-python-headless"
   ]
  },
  {
   "cell_type": "code",
   "execution_count": null,
   "metadata": {},
   "outputs": [],
   "source": [
    "command_label = f\"labelImg {paths['IMAGES']} {files['CLASSES_TXT']}\"\n",
    "!{command_label}"
   ]
  },
  {
   "cell_type": "code",
   "execution_count": 48,
   "metadata": {},
   "outputs": [
    {
     "name": "stdout",
     "output_type": "stream",
     "text": [
      "Found existing installation: opencv-python-headless 4.7.0.68\n",
      "Uninstalling opencv-python-headless-4.7.0.68:\n",
      "  Successfully uninstalled opencv-python-headless-4.7.0.68\n",
      "Collecting opencv-python\n",
      "  Using cached opencv_python-4.7.0.68-cp37-abi3-manylinux_2_17_x86_64.manylinux2014_x86_64.whl (61.8 MB)\n",
      "Requirement already satisfied: numpy>=1.17.3 in ./env/lib/python3.8/site-packages (from opencv-python) (1.24.1)\n",
      "Installing collected packages: opencv-python\n",
      "Successfully installed opencv-python-4.7.0.68\n"
     ]
    }
   ],
   "source": [
    "!pip uninstall opencv-python-headless --yes \n",
    "!pip install opencv-python"
   ]
  },
  {
   "attachments": {},
   "cell_type": "markdown",
   "metadata": {},
   "source": [
    "## Split Data Into Training And Testing"
   ]
  },
  {
   "cell_type": "code",
   "execution_count": 49,
   "metadata": {},
   "outputs": [],
   "source": [
    "train_size = 0.8\n",
    "valid_size = 0.2\n",
    "test_size = 0.1"
   ]
  },
  {
   "cell_type": "code",
   "execution_count": 50,
   "metadata": {},
   "outputs": [],
   "source": [
    "list_files = [os.path.splitext(file)[0] for file in os.listdir(paths['IMAGES']) if file.endswith('.txt')]\n",
    "num_files = len(list_files)\n",
    "test_set =  set(random.sample(list_files, int(test_size*num_files)))\n",
    "substet = set(list_files) - test_set\n",
    "valid_set =  set(random.sample(list(substet), int(valid_size*num_files)))\n",
    "train_set = substet - valid_set"
   ]
  },
  {
   "cell_type": "code",
   "execution_count": 51,
   "metadata": {},
   "outputs": [
    {
     "name": "stdout",
     "output_type": "stream",
     "text": [
      "Training pourcentage : 70.96774193548387\n",
      "Validation pourcentage : 19.35483870967742\n",
      "Test pourcentage : 9.67741935483871\n"
     ]
    }
   ],
   "source": [
    "print(f'Training pourcentage : {len(list(train_set))/len(list_files)*100}')\n",
    "print(f'Validation pourcentage : {len(list(valid_set))/len(list_files)*100}')\n",
    "print(f'Test pourcentage : {len(list(test_set))/len(list_files)*100}')"
   ]
  },
  {
   "cell_type": "code",
   "execution_count": 52,
   "metadata": {},
   "outputs": [],
   "source": [
    "def transfer_files(folder,files):\n",
    "    for file in files : \n",
    "        if file == 'classes' :\n",
    "            continue\n",
    "        src_img = os.path.join(paths['IMAGES'],f'{file}.jpg')\n",
    "        dst_img = os.path.join(folder,'images',f'{file}.jpg')\n",
    "        shutil.move(src_img,dst_img)\n",
    "        src_txt = os.path.join(paths['IMAGES'],f'{file}.txt')\n",
    "        dst_txt = os.path.join(folder,'labels',f'{file}.txt')\n",
    "        shutil.move(src_txt,dst_txt)"
   ]
  },
  {
   "cell_type": "code",
   "execution_count": 53,
   "metadata": {},
   "outputs": [],
   "source": [
    "transfer_files(paths['TRAIN'],list(train_set))\n",
    "transfer_files(paths['VALID'],list(valid_set))\n",
    "transfer_files(paths['TEST'],list(test_set))"
   ]
  },
  {
   "attachments": {},
   "cell_type": "markdown",
   "metadata": {},
   "source": [
    "## Train, Valid And Test Repartition\n",
    "\n",
    "If you want to see this exact repartition when you upload the images in the roboflow dataset, you need to upload the type (test,train,valid) one by one. Otherwise, you can use upload everything directly and it split them directly at that moment."
   ]
  },
  {
   "cell_type": "code",
   "execution_count": 54,
   "metadata": {},
   "outputs": [],
   "source": [
    "def color(array) : \n",
    "    data_normalizer = mp.colors.Normalize()\n",
    "    color_map = mp.colors.LinearSegmentedColormap(\n",
    "        \"my_map\",\n",
    "        {\n",
    "            \"red\": [(0, 1, 1),\n",
    "                (1.0, 0.5, 0.5)],\n",
    "            \"green\": [(0, 0.5, 0.5),\n",
    "                (1.0, 0, 0)],\n",
    "            \"blue\": [(0, 0.5, 0.5),\n",
    "                (1.0, 0, 0)],\n",
    "        }\n",
    "    )\n",
    "    return color_map(data_normalizer(array))"
   ]
  },
  {
   "cell_type": "code",
   "execution_count": 55,
   "metadata": {},
   "outputs": [],
   "source": [
    "def get_labels_repartition(label_files,label_names):\n",
    "    label_map = {label:i for i,label in enumerate(label_names)}\n",
    "    results = {label:0 for label in label_names}\n",
    "    for file in label_files:\n",
    "        if 'classes' in file: \n",
    "            continue\n",
    "        with open(file,'r') as f:\n",
    "            text = f.read()\n",
    "            text = text.split('\\n')\n",
    "            if not text[-1]:\n",
    "                text = text[:-1]\n",
    "            for line in text :\n",
    "                for label in label_map:\n",
    "                    if label_map[label] == int(line[0]):\n",
    "                        l = label  \n",
    "                        break\n",
    "                results[l] += 1\n",
    "    return results\n",
    "\n",
    "def get_images_repartition(image_files,label_names):\n",
    "    label_names.append('background')\n",
    "    label_names.append('multiple')\n",
    "    results = {label:0 for label in label_names}\n",
    "    for image in image_files:\n",
    "        for label in label_names:\n",
    "            detect = f'{label}_'\n",
    "            if detect in image :\n",
    "                results[label] += 1\n",
    "                break\n",
    "    return results"
   ]
  },
  {
   "cell_type": "code",
   "execution_count": 56,
   "metadata": {},
   "outputs": [],
   "source": [
    "test_images = [os.path.join(paths['TEST'],'images',file) for file in os.listdir(os.path.join(paths['TEST'],'images'))]\n",
    "test_images_repartition = get_images_repartition(test_images,labels.copy())\n",
    "test_labels = [os.path.join(paths['TEST'],'labels',file) for file in os.listdir(os.path.join(paths['TEST'],'labels'))]\n",
    "test_labels_repartition = get_labels_repartition(test_labels,labels.copy())\n",
    "\n",
    "train_images = [os.path.join(paths['TRAIN'],'images',file) for file in os.listdir(os.path.join(paths['TRAIN'],'images'))]\n",
    "train_images_repartition = get_images_repartition(train_images,labels.copy())\n",
    "train_labels = [os.path.join(paths['TRAIN'],'labels',file) for file in os.listdir(os.path.join(paths['TRAIN'],'labels'))]\n",
    "train_labels_repartition = get_labels_repartition(train_labels,labels.copy())  \n",
    "\n",
    "valid_images = [os.path.join(paths['VALID'],'images',file) for file in os.listdir(os.path.join(paths['VALID'],'images'))]\n",
    "valid_images_repartition = get_images_repartition(valid_images,labels.copy())\n",
    "valid_labels = [os.path.join(paths['VALID'],'labels',file) for file in os.listdir(os.path.join(paths['VALID'],'labels'))]\n",
    "valid_labels_repartition = get_labels_repartition(valid_labels,labels.copy())"
   ]
  },
  {
   "cell_type": "code",
   "execution_count": 57,
   "metadata": {},
   "outputs": [
    {
     "data": {
      "image/png": "[encoded data removed]",
      "text/plain": [
       "<Figure size 1600x600 with 6 Axes>"
      ]
     },
     "metadata": {},
     "output_type": "display_data"
    }
   ],
   "source": [
    "test_num_labels = np.array(list(test_images_repartition.values()))\n",
    "train_num_labels = np.array(list(train_images_repartition.values()))\n",
    "valid_num_labels = np.array(list(valid_images_repartition.values()))\n",
    "\n",
    "fig, axes = plt.subplots(2, 3, figsize=(16, 6))\n",
    "\n",
    "ax = axes[0][0]\n",
    "ax.bar(list(train_images_repartition.keys()),train_num_labels,color=color(train_num_labels))\n",
    "ax.set_xlabel('Labels')\n",
    "ax.set_ylabel('Number of Labels')\n",
    "ax.set_title('Training Absolue')\n",
    "\n",
    "\n",
    "ax = axes[0][1]\n",
    "ax.bar(list(valid_images_repartition.keys()),valid_num_labels,color=color(valid_num_labels))\n",
    "ax.set_xlabel('Labels')\n",
    "ax.set_ylabel('Number of Labels')\n",
    "ax.set_title('Validation Absolue')\n",
    "\n",
    "ax = axes[0][2]\n",
    "ax.bar(list(test_images_repartition.keys()),test_num_labels,color=color(test_num_labels))\n",
    "ax.set_xlabel('Labels')\n",
    "ax.set_ylabel('Number of Labels')\n",
    "ax.set_title('Test Absolue')\n",
    "\n",
    "ax = axes[1][0]\n",
    "ax.bar(list(train_images_repartition.keys()),train_num_labels/np.sum(train_num_labels),color=color(train_num_labels/np.sum(train_num_labels)))\n",
    "ax.set_xlabel('Labels')\n",
    "ax.set_ylabel('Number of Labels')\n",
    "ax.set_title('Training Relative')\n",
    "\n",
    "ax = axes[1][1]\n",
    "ax.bar(list(valid_images_repartition.keys()),valid_num_labels/np.sum(valid_num_labels),color=color(valid_num_labels/np.sum(valid_num_labels)))\n",
    "ax.set_xlabel('Labels')\n",
    "ax.set_ylabel('Number of Labels')\n",
    "ax.set_title('Validation Relative')\n",
    "\n",
    "ax = axes[1][2]\n",
    "ax.bar(list(test_images_repartition.keys()),test_num_labels/np.sum(test_num_labels),color=color(test_num_labels/np.sum(test_num_labels)))\n",
    "ax.set_xlabel('Labels')\n",
    "ax.set_ylabel('Number of Labels')\n",
    "ax.set_title('Test Relative')\n",
    "\n",
    "fig.suptitle('Images Repoartition')\n",
    "fig.tight_layout()\n",
    "plt.show()"
   ]
  },
  {
   "cell_type": "code",
   "execution_count": 60,
   "metadata": {},
   "outputs": [
    {
     "data": {
      "image/png": "[encoded data removed]",
      "text/plain": [
       "<Figure size 1600x600 with 6 Axes>"
      ]
     },
     "metadata": {},
     "output_type": "display_data"
    }
   ],
   "source": [
    "test_num_labels = np.array(list(test_labels_repartition.values()))\n",
    "train_num_labels = np.array(list(train_labels_repartition.values()))\n",
    "valid_num_labels = np.array(list(valid_labels_repartition.values()))\n",
    "\n",
    "fig, axes = plt.subplots(2, 3, figsize=(16, 6))\n",
    "\n",
    "ax = axes[0][0]\n",
    "ax.bar(list(train_labels_repartition.keys()),train_num_labels,color=color(train_num_labels))\n",
    "ax.set_xlabel('Labels')\n",
    "ax.set_ylabel('Number of Labels')\n",
    "ax.set_title('Training Absolue')\n",
    "\n",
    "\n",
    "ax = axes[0][1]\n",
    "ax.bar(list(valid_labels_repartition.keys()),valid_num_labels,color=color(valid_num_labels))\n",
    "ax.set_xlabel('Labels')\n",
    "ax.set_ylabel('Number of Labels')\n",
    "ax.set_title('Validation Absolue')\n",
    "\n",
    "ax = axes[0][2]\n",
    "ax.bar(list(test_labels_repartition.keys()),test_num_labels,color=color(test_num_labels))\n",
    "ax.set_xlabel('Labels')\n",
    "ax.set_ylabel('Number of Labels')\n",
    "ax.set_title('Test Absolue')\n",
    "\n",
    "ax = axes[1][0]\n",
    "ax.bar(list(train_labels_repartition.keys()),train_num_labels/np.sum(train_num_labels),color=color(train_num_labels/np.sum(train_num_labels)))\n",
    "ax.set_xlabel('Labels')\n",
    "ax.set_ylabel('Number of Labels')\n",
    "ax.set_title('Training Relative')\n",
    "\n",
    "ax = axes[1][1]\n",
    "ax.bar(list(valid_labels_repartition.keys()),valid_num_labels/np.sum(valid_num_labels),color=color(valid_num_labels/np.sum(valid_num_labels)))\n",
    "ax.set_xlabel('Labels')\n",
    "ax.set_ylabel('Number of Labels')\n",
    "ax.set_title('Validation Relative')\n",
    "\n",
    "ax = axes[1][2]\n",
    "ax.bar(list(test_labels_repartition.keys()),test_num_labels/np.sum(test_num_labels),color=color(test_num_labels/np.sum(test_num_labels)))\n",
    "ax.set_xlabel('Labels')\n",
    "ax.set_ylabel('Number of Labels')\n",
    "ax.set_title('Test Relative')\n",
    "\n",
    "fig.suptitle('Labels Repoartition')\n",
    "fig.tight_layout()\n",
    "plt.show()"
   ]
  },
  {
   "attachments": {},
   "cell_type": "markdown",
   "metadata": {},
   "source": [
    "# Zip folder\n",
    "\n",
    "Create zip folder to upload images to google colab : \n",
    "- train \n",
    "- test\n",
    "- valid"
   ]
  },
  {
   "cell_type": "code",
   "execution_count": null,
   "metadata": {},
   "outputs": [],
   "source": [
    "for folder in ['test','train','valid']:\n",
    "    zip_file = f'{folder}.zip'\n",
    "    zip_folder = os.path.join(paths['ZIP'],zip_file)\n",
    "    !cd {paths[f'{folder.upper()}']} && zip -r {zip_file} images labels && cp {zip_file} {zip_folder}\n"
   ]
  },
  {
   "attachments": {},
   "cell_type": "markdown",
   "metadata": {},
   "source": [
    "Create zip file to upload model weight if you want to restart training from certain point"
   ]
  },
  {
   "cell_type": "code",
   "execution_count": 21,
   "metadata": {},
   "outputs": [],
   "source": [
    "model_number = 1"
   ]
  },
  {
   "cell_type": "code",
   "execution_count": 22,
   "metadata": {},
   "outputs": [
    {
     "name": "stdout",
     "output_type": "stream",
     "text": [
      "updating: best.pt (deflated 10%)\n"
     ]
    }
   ],
   "source": [
    "zip_file = f'model_{model_number}.zip'\n",
    "weights_path = os.path.join(paths['MODELS'],f'model_{model_number}','train','weights')\n",
    "zip_model = os.path.join(paths['ZIP'],zip_file)\n",
    "!cd {weights_path} && zip {zip_file} best.pt && cp {zip_file} {zip_model}"
   ]
  },
  {
   "attachments": {},
   "cell_type": "markdown",
   "metadata": {},
   "source": [
    "You can open the folder gui to upload them"
   ]
  },
  {
   "cell_type": "code",
   "execution_count": 23,
   "metadata": {},
   "outputs": [],
   "source": [
    "!nautilus {paths['ZIP']}"
   ]
  },
  {
   "attachments": {},
   "cell_type": "markdown",
   "metadata": {},
   "source": [
    "## Unzip Model\n",
    "\n",
    "Once training is done and the model is downloaded, you can unzip it."
   ]
  },
  {
   "cell_type": "code",
   "execution_count": 24,
   "metadata": {},
   "outputs": [],
   "source": [
    "model_number = 2\n",
    "user = 'alessandrini'"
   ]
  },
  {
   "cell_type": "code",
   "execution_count": 29,
   "metadata": {},
   "outputs": [],
   "source": [
    "model_zip = os.path.join('/home',user,'Téléchargements',f'model_{model_number}.zip')\n",
    "model_path = os.path.join(paths['MODELS'],f'model_{model_number}')"
   ]
  },
  {
   "cell_type": "code",
   "execution_count": null,
   "metadata": {},
   "outputs": [],
   "source": [
    "!mkdir -p {model_path}\n",
    "!unzip {model_zip} -d {model_path}\n",
    "!rm {model_zip}"
   ]
  },
  {
   "attachments": {},
   "cell_type": "markdown",
   "metadata": {},
   "source": [
    "## See Results in tensorboard"
   ]
  },
  {
   "cell_type": "code",
   "execution_count": 31,
   "metadata": {},
   "outputs": [
    {
     "name": "stdout",
     "output_type": "stream",
     "text": [
      "2023-01-01 20:10:54.020778: I tensorflow/core/platform/cpu_feature_guard.cc:193] This TensorFlow binary is optimized with oneAPI Deep Neural Network Library (oneDNN) to use the following CPU instructions in performance-critical operations:  AVX2 AVX512F AVX512_VNNI FMA\n",
      "To enable them in other operations, rebuild TensorFlow with the appropriate compiler flags.\n",
      "2023-01-01 20:10:54.332936: I tensorflow/core/util/port.cc:104] oneDNN custom operations are on. You may see slightly different numerical results due to floating-point round-off errors from different computation orders. To turn them off, set the environment variable `TF_ENABLE_ONEDNN_OPTS=0`.\n",
      "2023-01-01 20:10:54.387807: W tensorflow/compiler/xla/stream_executor/platform/default/dso_loader.cc:64] Could not load dynamic library 'libcudart.so.11.0'; dlerror: libcudart.so.11.0: cannot open shared object file: No such file or directory; LD_LIBRARY_PATH: /home/alessandrini/Documents/Robot/Eden_Robotics/Python/vision/detection/yolo/env/lib/python3.8/site-packages/cv2/../../lib64:/usr/local/cuda-11.2/lib64:\n",
      "2023-01-01 20:10:54.387854: I tensorflow/compiler/xla/stream_executor/cuda/cudart_stub.cc:29] Ignore above cudart dlerror if you do not have a GPU set up on your machine.\n",
      "2023-01-01 20:10:55.354132: W tensorflow/compiler/xla/stream_executor/platform/default/dso_loader.cc:64] Could not load dynamic library 'libnvinfer.so.7'; dlerror: libnvinfer.so.7: cannot open shared object file: No such file or directory; LD_LIBRARY_PATH: /home/alessandrini/Documents/Robot/Eden_Robotics/Python/vision/detection/yolo/env/lib/python3.8/site-packages/cv2/../../lib64:/usr/local/cuda-11.2/lib64:\n",
      "2023-01-01 20:10:55.354319: W tensorflow/compiler/xla/stream_executor/platform/default/dso_loader.cc:64] Could not load dynamic library 'libnvinfer_plugin.so.7'; dlerror: libnvinfer_plugin.so.7: cannot open shared object file: No such file or directory; LD_LIBRARY_PATH: /home/alessandrini/Documents/Robot/Eden_Robotics/Python/vision/detection/yolo/env/lib/python3.8/site-packages/cv2/../../lib64:/usr/local/cuda-11.2/lib64:\n",
      "2023-01-01 20:10:55.354328: W tensorflow/compiler/tf2tensorrt/utils/py_utils.cc:38] TF-TRT Warning: Cannot dlopen some TensorRT libraries. If you would like to use Nvidia GPU with TensorRT, please make sure the missing libraries mentioned above are installed properly.\n",
      "2023-01-01 20:11:01.239839: E tensorflow/compiler/xla/stream_executor/cuda/cuda_driver.cc:267] failed call to cuInit: CUDA_ERROR_NO_DEVICE: no CUDA-capable device is detected\n",
      "2023-01-01 20:11:01.239974: I tensorflow/compiler/xla/stream_executor/cuda/cuda_diagnostics.cc:156] kernel driver does not appear to be running on this host (alessandrini-Inspiron-3793): /proc/driver/nvidia/version does not exist\n",
      "\n",
      "NOTE: Using experimental fast data loading logic. To disable, pass\n",
      "    \"--load_fast=false\" and report issues on GitHub. More details:\n",
      "    https://github.com/tensorflow/tensorboard/issues/4784\n",
      "\n",
      "Serving TensorBoard on localhost; to expose to the network, use a proxy or pass --bind_all\n",
      "TensorBoard 2.11.0 at http://localhost:6006/ (Press CTRL+C to quit)\n",
      "^C\n"
     ]
    }
   ],
   "source": [
    "!tensorboard --logdir {paths['MODELS']}"
   ]
  },
  {
   "attachments": {},
   "cell_type": "markdown",
   "metadata": {},
   "source": [
    "## Detection With OpenCV DNN"
   ]
  },
  {
   "cell_type": "code",
   "execution_count": null,
   "metadata": {},
   "outputs": [],
   "source": [
    "!pip uninstall opencv-python opencv-python-headless opencv-contrib-python --yes\n",
    "!pip install opencv-python opencv-contrib-python"
   ]
  },
  {
   "cell_type": "code",
   "execution_count": 62,
   "metadata": {},
   "outputs": [],
   "source": [
    "img_size = 416\n",
    "score_threshold = 0.2\n",
    "nms_threshold = 0.4\n",
    "confidence_threshold = 0.4\n",
    "model_number = 0"
   ]
  },
  {
   "cell_type": "code",
   "execution_count": 63,
   "metadata": {},
   "outputs": [],
   "source": [
    "model_path = os.path.join(paths['MODELS'],f'model_{model_number}','train','weights','best.onnx')"
   ]
  },
  {
   "cell_type": "code",
   "execution_count": 64,
   "metadata": {},
   "outputs": [],
   "source": [
    "INPUT_WIDTH = img_size\n",
    "INPUT_HEIGHT = img_size\n",
    "SCORE_THRESHOLD = score_threshold\n",
    "NMS_THRESHOLD = nms_threshold\n",
    "CONFIDENCE_THRESHOLD = confidence_threshold"
   ]
  },
  {
   "cell_type": "code",
   "execution_count": 65,
   "metadata": {},
   "outputs": [],
   "source": [
    "def build_model(model_path):\n",
    "    net = cv2.dnn.readNet(model_path)\n",
    "    net.setPreferableBackend(cv2.dnn.DNN_BACKEND_OPENCV)\n",
    "    net.setPreferableTarget(cv2.dnn.DNN_TARGET_CPU)\n",
    "    return net"
   ]
  },
  {
   "cell_type": "code",
   "execution_count": 66,
   "metadata": {},
   "outputs": [],
   "source": [
    "def detect(image, net):\n",
    "    blob = cv2.dnn.blobFromImage(image, 1/255.0, size = (INPUT_WIDTH, INPUT_HEIGHT), swapRB=True, crop=False)\n",
    "    net.setInput(blob)\n",
    "    return net.forward()"
   ]
  },
  {
   "cell_type": "code",
   "execution_count": 67,
   "metadata": {},
   "outputs": [],
   "source": [
    "def wrap_detection(input_image, output_data):\n",
    "    class_ids = []\n",
    "    confidences = []\n",
    "    boxes = []\n",
    "\n",
    "    rows = output_data.shape[0]\n",
    "\n",
    "    image_width, image_height, _ = input_image.shape\n",
    "\n",
    "    x_factor = image_width / INPUT_WIDTH\n",
    "    y_factor =  image_height / INPUT_HEIGHT\n",
    "\n",
    "    for r in range(rows):\n",
    "        row = output_data[r]\n",
    "        confidence = row[4]\n",
    "        if confidence >= 0.4:\n",
    "\n",
    "            classes_scores = row[5:]\n",
    "            _, _, _, max_indx = cv2.minMaxLoc(classes_scores)\n",
    "            class_id = max_indx[1]\n",
    "            if (classes_scores[class_id] > .25):\n",
    "\n",
    "                confidences.append(confidence)\n",
    "\n",
    "                class_ids.append(class_id)\n",
    "\n",
    "                x, y, w, h = row[0].item(), row[1].item(), row[2].item(), row[3].item() \n",
    "                left = int((x - 0.5 * w) * x_factor)\n",
    "                top = int((y - 0.5 * h) * y_factor)\n",
    "                width = int(w * x_factor)\n",
    "                height = int(h * y_factor)\n",
    "                box = np.array([left, top, width, height])\n",
    "                boxes.append(box)\n",
    "\n",
    "    indexes = cv2.dnn.NMSBoxes(boxes, confidences, 0.25, 0.45) \n",
    "\n",
    "    result_class_ids = []\n",
    "    result_confidences = []\n",
    "    result_boxes = []\n",
    "\n",
    "    for i in indexes:\n",
    "        result_confidences.append(confidences[i])\n",
    "        result_class_ids.append(class_ids[i])\n",
    "        result_boxes.append(boxes[i])\n",
    "\n",
    "    return result_class_ids, result_confidences, result_boxes"
   ]
  },
  {
   "cell_type": "code",
   "execution_count": 68,
   "metadata": {},
   "outputs": [],
   "source": [
    "def format_yolov5(frame):\n",
    "    row, col, _ = frame.shape\n",
    "    _max = max(col, row)\n",
    "    result = np.zeros((_max, _max, 3), np.uint8)\n",
    "    result[0:row, 0:col] = frame\n",
    "    return result"
   ]
  },
  {
   "cell_type": "code",
   "execution_count": null,
   "metadata": {},
   "outputs": [],
   "source": [
    "cap = cv2.VideoCapture(0)\n",
    "net = build_model(model_path)\n",
    "\n",
    "prev_frame_time = 0\n",
    "new_frame_time = 0\n",
    "\n",
    "colors = (random.randint(0, 255), random.randint(0,255), random.randint(0, 255))\n",
    "\n",
    "while cap.isOpened():\n",
    "    ret, frame = cap.read()\n",
    "    frame = cv2.resize(frame,(img_size,img_size))\n",
    "    # Make detections \n",
    "    inputImage = format_yolov5(frame)\n",
    "    outs = detect(inputImage, net)\n",
    "    class_ids, confidences, boxes = wrap_detection(inputImage, outs[0])\n",
    "\n",
    "\n",
    "    for (classid, confidence, box) in zip(class_ids, confidences, boxes):\n",
    "         color = colors[int(classid) % len(colors)]\n",
    "         cv2.rectangle(frame, box, color, 2)\n",
    "         cv2.rectangle(frame, (box[0], box[1] - 20), (box[0] + box[2], box[1]), color, -1)\n",
    "         cv2.putText(frame, labels[classid], (box[0], box[1] - 10), cv2.FONT_HERSHEY_SIMPLEX, .5, (0,0,0))\n",
    "\n",
    "    new_frame_time = time.time()\n",
    "    fps = round(1/(new_frame_time-prev_frame_time),2)\n",
    "    prev_frame_time = new_frame_time\n",
    "    cv2.putText(frame, f'FPS : {fps}Hz', (2, 20), cv2.FONT_HERSHEY_SIMPLEX, 0.5, (100, 255, 0), 1, cv2.LINE_AA)\n",
    "    cv2.imshow('YOLO', frame)\n",
    "    \n",
    "    if cv2.waitKey(1) & 0xFF == ord('q'):\n",
    "        break\n",
    "\n",
    "cap.release()\n",
    "cv2.destroyAllWindows()"
   ]
  }
 ],
 "metadata": {
  "kernelspec": {
   "display_name": "env",
   "language": "python",
   "name": "python3"
  },
  "language_info": {
   "codemirror_mode": {
    "name": "ipython",
    "version": 3
   },
   "file_extension": ".py",
   "mimetype": "text/x-python",
   "name": "python",
   "nbconvert_exporter": "python",
   "pygments_lexer": "ipython3",
   "version": "3.8.10"
  },
  "orig_nbformat": 4,
  "vscode": {
   "interpreter": {
    "hash": "d718cad3d73612c1f4120d3668e082b8867a33157dbb3919e07feca035782af5"
   }
  }
 },
 "nbformat": 4,
 "nbformat_minor": 2
}
