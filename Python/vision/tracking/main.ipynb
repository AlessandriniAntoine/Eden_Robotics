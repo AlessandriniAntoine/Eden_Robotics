{
 "cells": [
  {
   "attachments": {},
   "cell_type": "markdown",
   "metadata": {},
   "source": [
    "# Object Tracking Algorithm\n",
    "\n",
    "This notebook present all the tracking techniques available with opencv and how to use them.\n",
    "\n",
    "## Install Dependencies"
   ]
  },
  {
   "cell_type": "code",
   "execution_count": null,
   "metadata": {},
   "outputs": [],
   "source": [
    "!pip uninstall opencv-python opencv-contrib-python protobuf==3.19.0"
   ]
  },
  {
   "cell_type": "code",
   "execution_count": null,
   "metadata": {},
   "outputs": [],
   "source": [
    "!pip install opencv-python opencv-contrib-python matplotlib protobuf==3.19.0"
   ]
  },
  {
   "attachments": {},
   "cell_type": "markdown",
   "metadata": {},
   "source": [
    "## Import Packages"
   ]
  },
  {
   "cell_type": "code",
   "execution_count": 1,
   "metadata": {},
   "outputs": [],
   "source": [
    "import os\n",
    "import sys\n",
    "import time\n",
    "from random import randint\n",
    "import numpy as np\n",
    "\n",
    "import cv2\n",
    "import matplotlib.pyplot as plt"
   ]
  },
  {
   "attachments": {},
   "cell_type": "markdown",
   "metadata": {},
   "source": [
    "## Create Tracker"
   ]
  },
  {
   "cell_type": "code",
   "execution_count": 2,
   "metadata": {},
   "outputs": [],
   "source": [
    "tracker_types = ['BOOSTING', 'MIL', 'KCF', 'TLD', 'MEDIANFLOW', 'MOSSE', 'CSRT']"
   ]
  },
  {
   "cell_type": "code",
   "execution_count": 3,
   "metadata": {},
   "outputs": [],
   "source": [
    "def create_tracker_by_name(tracker_type):\n",
    "    if tracker_type == tracker_types[0]:\n",
    "        tracker = cv2.legacy.TrackerBoosting_create()\n",
    "    elif tracker_type == tracker_types[1]:\n",
    "        tracker = cv2.legacy.TrackerMIL_create()\n",
    "    elif tracker_type == tracker_types[2]:\n",
    "        tracker = cv2.legacy.TrackerKCF_create()\n",
    "    elif tracker_type == tracker_types[3]:\n",
    "        tracker = cv2.legacy.TrackerTLD_create()\n",
    "    elif tracker_type == tracker_types[4]:\n",
    "        tracker = cv2.legacy.TrackerMedianFlow_create()\n",
    "    elif tracker_type == tracker_types[5]:\n",
    "        tracker = cv2.legacy.TrackerMOSSE_create()\n",
    "    elif tracker_type == tracker_types[6]:\n",
    "        tracker = cv2.legacy.TrackerCSRT_create()\n",
    "    else:\n",
    "        tracker = None\n",
    "        print('Invalid name! Available trackers: ')\n",
    "        for t in tracker_types:\n",
    "            print(t)\n",
    "    return tracker"
   ]
  },
  {
   "attachments": {},
   "cell_type": "markdown",
   "metadata": {},
   "source": [
    "## Single Tracker"
   ]
  },
  {
   "cell_type": "code",
   "execution_count": 4,
   "metadata": {},
   "outputs": [],
   "source": [
    "tracker_type = 'CSRT'\n",
    "tracker = create_tracker_by_name(tracker_type)"
   ]
  },
  {
   "cell_type": "code",
   "execution_count": 13,
   "metadata": {},
   "outputs": [
    {
     "name": "stdout",
     "output_type": "stream",
     "text": [
      "Error while loading the video!\n"
     ]
    },
    {
     "name": "stderr",
     "output_type": "stream",
     "text": [
      "[ WARN:0@327.086] global /io/opencv/modules/videoio/src/cap_v4l.cpp (902) open VIDEOIO(V4L2:/dev/video0): can't open camera by index\n"
     ]
    },
    {
     "ename": "SystemExit",
     "evalue": "",
     "output_type": "error",
     "traceback": [
      "An exception has occurred, use %tb to see the full traceback.\n",
      "\u001b[0;31mSystemExit\u001b[0m\n"
     ]
    },
    {
     "name": "stderr",
     "output_type": "stream",
     "text": [
      "/home/alessandrini/.local/lib/python3.8/site-packages/IPython/core/interactiveshell.py:3406: UserWarning: To exit: use 'exit', 'quit', or Ctrl-D.\n",
      "  warn(\"To exit: use 'exit', 'quit', or Ctrl-D.\", stacklevel=1)\n"
     ]
    }
   ],
   "source": [
    "# open video\n",
    "cap = cv2.VideoCapture(0)\n",
    "if not cap.isOpened():\n",
    "    print('Error while opening the camera!')\n",
    "    sys.exit()\n",
    "flag, frame = cap.read()\n",
    "if not flag:\n",
    "    print('Erro while loading the frame!')\n",
    "    sys.exit()"
   ]
  },
  {
   "cell_type": "code",
   "execution_count": 7,
   "metadata": {},
   "outputs": [],
   "source": [
    "colors = (randint(0, 255), randint(0,255), randint(0, 255)) # RGB -> BGR"
   ]
  },
  {
   "cell_type": "code",
   "execution_count": 9,
   "metadata": {},
   "outputs": [
    {
     "ename": "NameError",
     "evalue": "name 'cap' is not defined",
     "output_type": "error",
     "traceback": [
      "\u001b[0;31m---------------------------------------------------------------------------\u001b[0m",
      "\u001b[0;31mNameError\u001b[0m                                 Traceback (most recent call last)",
      "\u001b[1;32m/home/alessandrini/Documents/Robot/Ros1/Eden_Robotics/Python/vision/tracking/main.ipynb Cell 13\u001b[0m in \u001b[0;36m<cell line: 2>\u001b[0;34m()\u001b[0m\n\u001b[1;32m      <a href='vscode-notebook-cell:/home/alessandrini/Documents/Robot/Ros1/Eden_Robotics/Python/vision/tracking/main.ipynb#X21sZmlsZQ%3D%3D?line=0'>1</a>\u001b[0m \u001b[39mwhile\u001b[39;00m \u001b[39mTrue\u001b[39;00m:\n\u001b[0;32m----> <a href='vscode-notebook-cell:/home/alessandrini/Documents/Robot/Ros1/Eden_Robotics/Python/vision/tracking/main.ipynb#X21sZmlsZQ%3D%3D?line=1'>2</a>\u001b[0m     flag, frame \u001b[39m=\u001b[39m cap\u001b[39m.\u001b[39mread()\n\u001b[1;32m      <a href='vscode-notebook-cell:/home/alessandrini/Documents/Robot/Ros1/Eden_Robotics/Python/vision/tracking/main.ipynb#X21sZmlsZQ%3D%3D?line=2'>3</a>\u001b[0m     \u001b[39mif\u001b[39;00m \u001b[39mnot\u001b[39;00m flag:\n\u001b[1;32m      <a href='vscode-notebook-cell:/home/alessandrini/Documents/Robot/Ros1/Eden_Robotics/Python/vision/tracking/main.ipynb#X21sZmlsZQ%3D%3D?line=3'>4</a>\u001b[0m         \u001b[39mbreak\u001b[39;00m\n",
      "\u001b[0;31mNameError\u001b[0m: name 'cap' is not defined"
     ]
    }
   ],
   "source": [
    "while True:\n",
    "    flag, frame = cap.read()\n",
    "    if not flag:\n",
    "        break\n",
    "\n",
    "    cv2.imshow('Tracking', frame)\n",
    "    if cv2.waitKey(1) & 0XFF == ord('s'): \n",
    "        bbox = cv2.selectROI(frame) # region of interest\n",
    "        flag = tracker.init(frame, bbox)\n",
    "        if not flag:\n",
    "            print('Error while initializing tracker.')\n",
    "        break\n",
    "    \n",
    "    if cv2.waitKey(1) & 0XFF == ord('q'): \n",
    "        break\n",
    "    \n",
    "cap.release()\n",
    "cv2.destroyAllWindows()"
   ]
  },
  {
   "cell_type": "code",
   "execution_count": 6,
   "metadata": {},
   "outputs": [
    {
     "name": "stdout",
     "output_type": "stream",
     "text": [
      "Select a ROI and then press SPACE or ENTER button!\n",
      "Cancel the selection process by pressing c button!\n"
     ]
    }
   ],
   "source": [
    "bbox = cv2.selectROI(frame) # region of interest\n",
    "cv2.destroyAllWindows()\n",
    "flag = tracker.init(frame, bbox)\n",
    "if not flag:\n",
    "    print('Error while initializing tracker.')\n",
    "colors = (randint(0, 255), randint(0,255), randint(0, 255)) # RGB -> BGR"
   ]
  },
  {
   "cell_type": "code",
   "execution_count": null,
   "metadata": {},
   "outputs": [],
   "source": [
    "prev_frame_time, new_frame_time = 0, 0\n",
    "while True:\n",
    "    flag, frame = cap.read()\n",
    "    if not flag:\n",
    "        break\n",
    "\n",
    "    flag, bbox = tracker.update(frame)\n",
    "    if flag == True:\n",
    "        (x, y, w, h) = [int(v) for v in bbox]\n",
    "        #print(x, y, w, h)\n",
    "        cv2.rectangle(frame, (x, y), (x + w, y + h), colors, 2)\n",
    "    else:\n",
    "        cv2.putText(frame, 'Tracking failure!', (100,80), cv2.FONT_HERSHEY_SIMPLEX, .75, (0,0,255))\n",
    "\n",
    "    new_frame_time = time.time()\n",
    "    fps = round(1/(new_frame_time-prev_frame_time),2)\n",
    "    prev_frame_time = new_frame_time\n",
    "    cv2.putText(frame,f'Tracker : {tracker_type}, FPS : {fps}HZ', (100, 20), cv2.FONT_HERSHEY_SIMPLEX, .75, (0, 0, 255))\n",
    "\n",
    "    cv2.imshow('Tracking', frame)\n",
    "    if cv2.waitKey(1) & 0XFF == ord('q'): \n",
    "        break\n",
    "    \n",
    "cap.release()\n",
    "cv2.destroyAllWindows()"
   ]
  }
 ],
 "metadata": {
  "kernelspec": {
   "display_name": "Python 3",
   "language": "python",
   "name": "python3"
  },
  "language_info": {
   "codemirror_mode": {
    "name": "ipython",
    "version": 3
   },
   "file_extension": ".py",
   "mimetype": "text/x-python",
   "name": "python",
   "nbconvert_exporter": "python",
   "pygments_lexer": "ipython3",
   "version": "3.8.10"
  },
  "orig_nbformat": 4,
  "vscode": {
   "interpreter": {
    "hash": "df0893f56f349688326838aaeea0de204df53a132722cbd565e54b24a8fec5f6"
   }
  }
 },
 "nbformat": 4,
 "nbformat_minor": 2
}
